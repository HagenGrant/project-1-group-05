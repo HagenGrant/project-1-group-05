{
 "cells": [
  {
   "cell_type": "markdown",
   "id": "cdd8cf48-db4f-4b54-8b7f-1c847dca1d2c",
   "metadata": {},
   "source": [
    "## Shark Attacks"
   ]
  },
  {
   "cell_type": "code",
   "execution_count": 2,
   "id": "b0207dc8-7cc3-44e5-be9c-f8779edacb06",
   "metadata": {},
   "outputs": [],
   "source": [
    "import pandas as pd\n",
    "import numpy as np\n",
    "import matplotlib.pyplot as plt\n",
    "import seaborn as sns\n",
    "from scipy.stats import linregress\n",
    "from matplotlib.colors import LinearSegmentedColormap\n",
    "import matplotlib.ticker as ticker\n",
    "from scipy.stats import linregress\n",
    "import scipy.stats as stats"
   ]
  },
  {
   "cell_type": "code",
   "execution_count": 3,
   "id": "f9a39704-a4d7-4fbc-8c59-26176ae3f532",
   "metadata": {},
   "outputs": [],
   "source": [
    "# get the csv\n",
    "filepath = \"Resources/attacks.csv\"\n",
    "\n",
    "# read the CSV file\n",
    "raw_df = pd.read_csv(filepath, encoding='latin1')"
   ]
  },
  {
   "cell_type": "code",
   "execution_count": 4,
   "id": "53fe6f8a-40ed-4956-b339-8f65ab857de8",
   "metadata": {},
   "outputs": [
    {
     "data": {
      "text/html": [
       "<div>\n",
       "<style scoped>\n",
       "    .dataframe tbody tr th:only-of-type {\n",
       "        vertical-align: middle;\n",
       "    }\n",
       "\n",
       "    .dataframe tbody tr th {\n",
       "        vertical-align: top;\n",
       "    }\n",
       "\n",
       "    .dataframe thead th {\n",
       "        text-align: right;\n",
       "    }\n",
       "</style>\n",
       "<table border=\"1\" class=\"dataframe\">\n",
       "  <thead>\n",
       "    <tr style=\"text-align: right;\">\n",
       "      <th></th>\n",
       "      <th>Case Number</th>\n",
       "      <th>Date</th>\n",
       "      <th>Year</th>\n",
       "      <th>Type</th>\n",
       "      <th>Country</th>\n",
       "      <th>Area</th>\n",
       "      <th>Location</th>\n",
       "      <th>Activity</th>\n",
       "      <th>Name</th>\n",
       "      <th>Sex</th>\n",
       "      <th>...</th>\n",
       "      <th>Species</th>\n",
       "      <th>Investigator or Source</th>\n",
       "      <th>pdf</th>\n",
       "      <th>href formula</th>\n",
       "      <th>href</th>\n",
       "      <th>Case Number.1</th>\n",
       "      <th>Case Number.2</th>\n",
       "      <th>original order</th>\n",
       "      <th>Unnamed: 22</th>\n",
       "      <th>Unnamed: 23</th>\n",
       "    </tr>\n",
       "  </thead>\n",
       "  <tbody>\n",
       "    <tr>\n",
       "      <th>0</th>\n",
       "      <td>2018.06.25</td>\n",
       "      <td>25-Jun-18</td>\n",
       "      <td>2018.0</td>\n",
       "      <td>Boating</td>\n",
       "      <td>USA</td>\n",
       "      <td>California</td>\n",
       "      <td>Oceanside, San Diego County</td>\n",
       "      <td>Paddling</td>\n",
       "      <td>Julie Wolfe</td>\n",
       "      <td>F</td>\n",
       "      <td>...</td>\n",
       "      <td>White shark</td>\n",
       "      <td>R. Collier, GSAF</td>\n",
       "      <td>2018.06.25-Wolfe.pdf</td>\n",
       "      <td>http://sharkattackfile.net/spreadsheets/pdf_di...</td>\n",
       "      <td>http://sharkattackfile.net/spreadsheets/pdf_di...</td>\n",
       "      <td>2018.06.25</td>\n",
       "      <td>2018.06.25</td>\n",
       "      <td>6303.0</td>\n",
       "      <td>NaN</td>\n",
       "      <td>NaN</td>\n",
       "    </tr>\n",
       "    <tr>\n",
       "      <th>1</th>\n",
       "      <td>2018.06.18</td>\n",
       "      <td>18-Jun-18</td>\n",
       "      <td>2018.0</td>\n",
       "      <td>Unprovoked</td>\n",
       "      <td>USA</td>\n",
       "      <td>Georgia</td>\n",
       "      <td>St. Simon Island, Glynn County</td>\n",
       "      <td>Standing</td>\n",
       "      <td>Adyson McNeely</td>\n",
       "      <td>F</td>\n",
       "      <td>...</td>\n",
       "      <td>NaN</td>\n",
       "      <td>K.McMurray, TrackingSharks.com</td>\n",
       "      <td>2018.06.18-McNeely.pdf</td>\n",
       "      <td>http://sharkattackfile.net/spreadsheets/pdf_di...</td>\n",
       "      <td>http://sharkattackfile.net/spreadsheets/pdf_di...</td>\n",
       "      <td>2018.06.18</td>\n",
       "      <td>2018.06.18</td>\n",
       "      <td>6302.0</td>\n",
       "      <td>NaN</td>\n",
       "      <td>NaN</td>\n",
       "    </tr>\n",
       "    <tr>\n",
       "      <th>2</th>\n",
       "      <td>2018.06.09</td>\n",
       "      <td>9-Jun-18</td>\n",
       "      <td>2018.0</td>\n",
       "      <td>Invalid</td>\n",
       "      <td>USA</td>\n",
       "      <td>Hawaii</td>\n",
       "      <td>Habush, Oahu</td>\n",
       "      <td>Surfing</td>\n",
       "      <td>John Denges</td>\n",
       "      <td>M</td>\n",
       "      <td>...</td>\n",
       "      <td>NaN</td>\n",
       "      <td>K.McMurray, TrackingSharks.com</td>\n",
       "      <td>2018.06.09-Denges.pdf</td>\n",
       "      <td>http://sharkattackfile.net/spreadsheets/pdf_di...</td>\n",
       "      <td>http://sharkattackfile.net/spreadsheets/pdf_di...</td>\n",
       "      <td>2018.06.09</td>\n",
       "      <td>2018.06.09</td>\n",
       "      <td>6301.0</td>\n",
       "      <td>NaN</td>\n",
       "      <td>NaN</td>\n",
       "    </tr>\n",
       "    <tr>\n",
       "      <th>3</th>\n",
       "      <td>2018.06.08</td>\n",
       "      <td>8-Jun-18</td>\n",
       "      <td>2018.0</td>\n",
       "      <td>Unprovoked</td>\n",
       "      <td>AUSTRALIA</td>\n",
       "      <td>New South Wales</td>\n",
       "      <td>Arrawarra Headland</td>\n",
       "      <td>Surfing</td>\n",
       "      <td>male</td>\n",
       "      <td>M</td>\n",
       "      <td>...</td>\n",
       "      <td>2 m shark</td>\n",
       "      <td>B. Myatt, GSAF</td>\n",
       "      <td>2018.06.08-Arrawarra.pdf</td>\n",
       "      <td>http://sharkattackfile.net/spreadsheets/pdf_di...</td>\n",
       "      <td>http://sharkattackfile.net/spreadsheets/pdf_di...</td>\n",
       "      <td>2018.06.08</td>\n",
       "      <td>2018.06.08</td>\n",
       "      <td>6300.0</td>\n",
       "      <td>NaN</td>\n",
       "      <td>NaN</td>\n",
       "    </tr>\n",
       "    <tr>\n",
       "      <th>4</th>\n",
       "      <td>2018.06.04</td>\n",
       "      <td>4-Jun-18</td>\n",
       "      <td>2018.0</td>\n",
       "      <td>Provoked</td>\n",
       "      <td>MEXICO</td>\n",
       "      <td>Colima</td>\n",
       "      <td>La Ticla</td>\n",
       "      <td>Free diving</td>\n",
       "      <td>Gustavo Ramos</td>\n",
       "      <td>M</td>\n",
       "      <td>...</td>\n",
       "      <td>Tiger shark, 3m</td>\n",
       "      <td>A .Kipper</td>\n",
       "      <td>2018.06.04-Ramos.pdf</td>\n",
       "      <td>http://sharkattackfile.net/spreadsheets/pdf_di...</td>\n",
       "      <td>http://sharkattackfile.net/spreadsheets/pdf_di...</td>\n",
       "      <td>2018.06.04</td>\n",
       "      <td>2018.06.04</td>\n",
       "      <td>6299.0</td>\n",
       "      <td>NaN</td>\n",
       "      <td>NaN</td>\n",
       "    </tr>\n",
       "  </tbody>\n",
       "</table>\n",
       "<p>5 rows × 24 columns</p>\n",
       "</div>"
      ],
      "text/plain": [
       "  Case Number       Date    Year        Type    Country             Area  \\\n",
       "0  2018.06.25  25-Jun-18  2018.0     Boating        USA       California   \n",
       "1  2018.06.18  18-Jun-18  2018.0  Unprovoked        USA          Georgia   \n",
       "2  2018.06.09   9-Jun-18  2018.0     Invalid        USA           Hawaii   \n",
       "3  2018.06.08   8-Jun-18  2018.0  Unprovoked  AUSTRALIA  New South Wales   \n",
       "4  2018.06.04   4-Jun-18  2018.0    Provoked     MEXICO           Colima   \n",
       "\n",
       "                         Location     Activity             Name Sex   ...  \\\n",
       "0     Oceanside, San Diego County     Paddling      Julie Wolfe    F  ...   \n",
       "1  St. Simon Island, Glynn County     Standing  Adyson McNeely     F  ...   \n",
       "2                    Habush, Oahu      Surfing      John Denges    M  ...   \n",
       "3              Arrawarra Headland      Surfing             male    M  ...   \n",
       "4                        La Ticla  Free diving   Gustavo Ramos     M  ...   \n",
       "\n",
       "          Species           Investigator or Source                       pdf  \\\n",
       "0      White shark                R. Collier, GSAF      2018.06.25-Wolfe.pdf   \n",
       "1              NaN  K.McMurray, TrackingSharks.com    2018.06.18-McNeely.pdf   \n",
       "2              NaN  K.McMurray, TrackingSharks.com     2018.06.09-Denges.pdf   \n",
       "3        2 m shark                  B. Myatt, GSAF  2018.06.08-Arrawarra.pdf   \n",
       "4  Tiger shark, 3m                       A .Kipper      2018.06.04-Ramos.pdf   \n",
       "\n",
       "                                        href formula  \\\n",
       "0  http://sharkattackfile.net/spreadsheets/pdf_di...   \n",
       "1  http://sharkattackfile.net/spreadsheets/pdf_di...   \n",
       "2  http://sharkattackfile.net/spreadsheets/pdf_di...   \n",
       "3  http://sharkattackfile.net/spreadsheets/pdf_di...   \n",
       "4  http://sharkattackfile.net/spreadsheets/pdf_di...   \n",
       "\n",
       "                                                href Case Number.1  \\\n",
       "0  http://sharkattackfile.net/spreadsheets/pdf_di...    2018.06.25   \n",
       "1  http://sharkattackfile.net/spreadsheets/pdf_di...    2018.06.18   \n",
       "2  http://sharkattackfile.net/spreadsheets/pdf_di...    2018.06.09   \n",
       "3  http://sharkattackfile.net/spreadsheets/pdf_di...    2018.06.08   \n",
       "4  http://sharkattackfile.net/spreadsheets/pdf_di...    2018.06.04   \n",
       "\n",
       "  Case Number.2 original order Unnamed: 22 Unnamed: 23  \n",
       "0    2018.06.25         6303.0         NaN         NaN  \n",
       "1    2018.06.18         6302.0         NaN         NaN  \n",
       "2    2018.06.09         6301.0         NaN         NaN  \n",
       "3    2018.06.08         6300.0         NaN         NaN  \n",
       "4    2018.06.04         6299.0         NaN         NaN  \n",
       "\n",
       "[5 rows x 24 columns]"
      ]
     },
     "execution_count": 4,
     "metadata": {},
     "output_type": "execute_result"
    }
   ],
   "source": [
    "raw_df.head()"
   ]
  },
  {
   "cell_type": "code",
   "execution_count": 5,
   "id": "7c0a0bb2-bb59-4e33-a7e4-65341403fe5c",
   "metadata": {},
   "outputs": [],
   "source": [
    "# make compatiable with dot notation\n",
    "raw_df.columns = raw_df.columns.str.strip()\n",
    "raw_df.columns = [x.lower().replace(\" \", \"_\") for x in raw_df.columns]\n",
    "\n",
    "raw_df.rename(columns={\"fatal_(y/n)\": \"fatal\"}, inplace=True)"
   ]
  },
  {
   "cell_type": "code",
   "execution_count": 6,
   "id": "e3e74deb-ad4e-481b-ba3d-1ed0a1c75c94",
   "metadata": {},
   "outputs": [
    {
     "data": {
      "text/plain": [
       "Index(['case_number', 'date', 'year', 'type', 'country', 'area', 'location',\n",
       "       'activity', 'name', 'sex', 'age', 'injury', 'fatal', 'time', 'species',\n",
       "       'investigator_or_source', 'pdf', 'href_formula', 'href',\n",
       "       'case_number.1', 'case_number.2', 'original_order', 'unnamed:_22',\n",
       "       'unnamed:_23'],\n",
       "      dtype='object')"
      ]
     },
     "execution_count": 6,
     "metadata": {},
     "output_type": "execute_result"
    }
   ],
   "source": [
    "raw_df.columns"
   ]
  },
  {
   "cell_type": "markdown",
   "id": "43463c93-c680-48d8-9dcd-4637915ae95d",
   "metadata": {},
   "source": [
    "#### Clean Data"
   ]
  },
  {
   "cell_type": "code",
   "execution_count": 7,
   "id": "3e64b338-4db8-44df-9dd4-578934fef5f2",
   "metadata": {},
   "outputs": [
    {
     "data": {
      "text/html": [
       "<div>\n",
       "<style scoped>\n",
       "    .dataframe tbody tr th:only-of-type {\n",
       "        vertical-align: middle;\n",
       "    }\n",
       "\n",
       "    .dataframe tbody tr th {\n",
       "        vertical-align: top;\n",
       "    }\n",
       "\n",
       "    .dataframe thead th {\n",
       "        text-align: right;\n",
       "    }\n",
       "</style>\n",
       "<table border=\"1\" class=\"dataframe\">\n",
       "  <thead>\n",
       "    <tr style=\"text-align: right;\">\n",
       "      <th></th>\n",
       "      <th>date</th>\n",
       "      <th>year</th>\n",
       "      <th>type</th>\n",
       "      <th>country</th>\n",
       "      <th>area</th>\n",
       "      <th>location</th>\n",
       "      <th>activity</th>\n",
       "      <th>sex</th>\n",
       "      <th>age</th>\n",
       "      <th>injury</th>\n",
       "      <th>fatal</th>\n",
       "      <th>time</th>\n",
       "      <th>species</th>\n",
       "    </tr>\n",
       "  </thead>\n",
       "  <tbody>\n",
       "    <tr>\n",
       "      <th>0</th>\n",
       "      <td>25-Jun-18</td>\n",
       "      <td>2018.0</td>\n",
       "      <td>Boating</td>\n",
       "      <td>USA</td>\n",
       "      <td>California</td>\n",
       "      <td>Oceanside, San Diego County</td>\n",
       "      <td>Paddling</td>\n",
       "      <td>F</td>\n",
       "      <td>57</td>\n",
       "      <td>No injury to occupant, outrigger canoe and pad...</td>\n",
       "      <td>N</td>\n",
       "      <td>18h00</td>\n",
       "      <td>White shark</td>\n",
       "    </tr>\n",
       "    <tr>\n",
       "      <th>1</th>\n",
       "      <td>18-Jun-18</td>\n",
       "      <td>2018.0</td>\n",
       "      <td>Unprovoked</td>\n",
       "      <td>USA</td>\n",
       "      <td>Georgia</td>\n",
       "      <td>St. Simon Island, Glynn County</td>\n",
       "      <td>Standing</td>\n",
       "      <td>F</td>\n",
       "      <td>11</td>\n",
       "      <td>Minor injury to left thigh</td>\n",
       "      <td>N</td>\n",
       "      <td>14h00  -15h00</td>\n",
       "      <td>NaN</td>\n",
       "    </tr>\n",
       "    <tr>\n",
       "      <th>2</th>\n",
       "      <td>9-Jun-18</td>\n",
       "      <td>2018.0</td>\n",
       "      <td>Invalid</td>\n",
       "      <td>USA</td>\n",
       "      <td>Hawaii</td>\n",
       "      <td>Habush, Oahu</td>\n",
       "      <td>Surfing</td>\n",
       "      <td>M</td>\n",
       "      <td>48</td>\n",
       "      <td>Injury to left lower leg from surfboard skeg</td>\n",
       "      <td>N</td>\n",
       "      <td>07h45</td>\n",
       "      <td>NaN</td>\n",
       "    </tr>\n",
       "    <tr>\n",
       "      <th>3</th>\n",
       "      <td>8-Jun-18</td>\n",
       "      <td>2018.0</td>\n",
       "      <td>Unprovoked</td>\n",
       "      <td>AUSTRALIA</td>\n",
       "      <td>New South Wales</td>\n",
       "      <td>Arrawarra Headland</td>\n",
       "      <td>Surfing</td>\n",
       "      <td>M</td>\n",
       "      <td>NaN</td>\n",
       "      <td>Minor injury to lower leg</td>\n",
       "      <td>N</td>\n",
       "      <td>NaN</td>\n",
       "      <td>2 m shark</td>\n",
       "    </tr>\n",
       "    <tr>\n",
       "      <th>4</th>\n",
       "      <td>4-Jun-18</td>\n",
       "      <td>2018.0</td>\n",
       "      <td>Provoked</td>\n",
       "      <td>MEXICO</td>\n",
       "      <td>Colima</td>\n",
       "      <td>La Ticla</td>\n",
       "      <td>Free diving</td>\n",
       "      <td>M</td>\n",
       "      <td>NaN</td>\n",
       "      <td>Lacerations to leg &amp; hand shark PROVOKED INCIDENT</td>\n",
       "      <td>N</td>\n",
       "      <td>NaN</td>\n",
       "      <td>Tiger shark, 3m</td>\n",
       "    </tr>\n",
       "  </tbody>\n",
       "</table>\n",
       "</div>"
      ],
      "text/plain": [
       "        date    year        type    country             area  \\\n",
       "0  25-Jun-18  2018.0     Boating        USA       California   \n",
       "1  18-Jun-18  2018.0  Unprovoked        USA          Georgia   \n",
       "2   9-Jun-18  2018.0     Invalid        USA           Hawaii   \n",
       "3   8-Jun-18  2018.0  Unprovoked  AUSTRALIA  New South Wales   \n",
       "4   4-Jun-18  2018.0    Provoked     MEXICO           Colima   \n",
       "\n",
       "                         location     activity sex  age  \\\n",
       "0     Oceanside, San Diego County     Paddling   F   57   \n",
       "1  St. Simon Island, Glynn County     Standing   F   11   \n",
       "2                    Habush, Oahu      Surfing   M   48   \n",
       "3              Arrawarra Headland      Surfing   M  NaN   \n",
       "4                        La Ticla  Free diving   M  NaN   \n",
       "\n",
       "                                              injury fatal           time  \\\n",
       "0  No injury to occupant, outrigger canoe and pad...     N          18h00   \n",
       "1                         Minor injury to left thigh     N  14h00  -15h00   \n",
       "2       Injury to left lower leg from surfboard skeg     N          07h45   \n",
       "3                          Minor injury to lower leg     N            NaN   \n",
       "4  Lacerations to leg & hand shark PROVOKED INCIDENT     N            NaN   \n",
       "\n",
       "           species  \n",
       "0      White shark  \n",
       "1              NaN  \n",
       "2              NaN  \n",
       "3        2 m shark  \n",
       "4  Tiger shark, 3m  "
      ]
     },
     "execution_count": 7,
     "metadata": {},
     "output_type": "execute_result"
    }
   ],
   "source": [
    "# drop unnecessary  columns\n",
    "cols = ['date', 'year', 'type', 'country', 'area', 'location', 'activity', 'sex', 'age', 'injury', 'fatal', 'time', 'species']\n",
    "df = raw_df.loc[:, cols]\n",
    "df.head()"
   ]
  },
  {
   "cell_type": "code",
   "execution_count": 8,
   "id": "947f0d64-8d2c-4597-9c7d-30a842e8042d",
   "metadata": {},
   "outputs": [
    {
     "name": "stdout",
     "output_type": "stream",
     "text": [
      "<class 'pandas.core.frame.DataFrame'>\n",
      "RangeIndex: 25723 entries, 0 to 25722\n",
      "Data columns (total 13 columns):\n",
      " #   Column    Non-Null Count  Dtype  \n",
      "---  ------    --------------  -----  \n",
      " 0   date      6302 non-null   object \n",
      " 1   year      6300 non-null   float64\n",
      " 2   type      6298 non-null   object \n",
      " 3   country   6252 non-null   object \n",
      " 4   area      5847 non-null   object \n",
      " 5   location  5762 non-null   object \n",
      " 6   activity  5758 non-null   object \n",
      " 7   sex       5737 non-null   object \n",
      " 8   age       3471 non-null   object \n",
      " 9   injury    6274 non-null   object \n",
      " 10  fatal     5763 non-null   object \n",
      " 11  time      2948 non-null   object \n",
      " 12  species   3464 non-null   object \n",
      "dtypes: float64(1), object(12)\n",
      "memory usage: 2.6+ MB\n"
     ]
    }
   ],
   "source": [
    "df.info()"
   ]
  },
  {
   "cell_type": "markdown",
   "id": "5825dbaa-db80-4c2b-a7ea-577b359d48ba",
   "metadata": {},
   "source": [
    "##### Column 'sex'"
   ]
  },
  {
   "cell_type": "code",
   "execution_count": 9,
   "id": "23e67d5a-9dc8-42ad-bbc1-6c93c61d3c26",
   "metadata": {},
   "outputs": [
    {
     "data": {
      "text/plain": [
       "array(['F', 'M', nan, 'M ', 'lli', 'N', '.'], dtype=object)"
      ]
     },
     "execution_count": 9,
     "metadata": {},
     "output_type": "execute_result"
    }
   ],
   "source": [
    "# see what values are in the 'sex' series \n",
    "df[\"sex\"].unique()"
   ]
  },
  {
   "cell_type": "code",
   "execution_count": 10,
   "id": "c51af1da-89c0-4e65-8757-70cba717626d",
   "metadata": {},
   "outputs": [
    {
     "name": "stdout",
     "output_type": "stream",
     "text": [
      "                      date    year          type           country  \\\n",
      "1624             11-Nov-04  2004.0    Unprovoked               USA   \n",
      "4938             11-Jul-34  1934.0       Boating         AUSTRALIA   \n",
      "5437  Reported 02-Jun-1908  1908.0  Sea Disaster  PAPUA NEW GUINEA   \n",
      "6131  Reported 18-Dec-1801  1801.0      Provoked               NaN   \n",
      "\n",
      "                 area                                        location  \\\n",
      "1624       California  Bunkers, Humboldt Bay, Eureka, Humboldt County   \n",
      "4938  New South Wales                                        Cronulla   \n",
      "5437      New Britain                                          Matupi   \n",
      "6131              NaN                                             NaN   \n",
      "\n",
      "                             activity  sex  age  \\\n",
      "1624                          Surfing  lli   38   \n",
      "4938                          Fishing    N  NaN   \n",
      "5437                                .    .  NaN   \n",
      "6131  Standing on landed shark's tail    N  NaN   \n",
      "\n",
      "                                                 injury fatal   time  \\\n",
      "1624                 Lacerations to hand, knee & thigh      N  13h30   \n",
      "4938  No injury to occupants Sharks continually foll...     N    NaN   \n",
      "5437  Remains of 3 humans recovered from shark, but ...     Y    NaN   \n",
      "6131                           FATAL, PROVOKED INCIDENT     Y    NaN   \n",
      "\n",
      "                        species  \n",
      "1624    5.5 m [18'] white shark  \n",
      "4938         Blue pointer, 11'   \n",
      "5437  Allegedly a 33-foot shark  \n",
      "6131                  12' shark  \n"
     ]
    },
    {
     "data": {
      "text/plain": [
       "array(['F', 'M', nan], dtype=object)"
      ]
     },
     "execution_count": 10,
     "metadata": {},
     "output_type": "execute_result"
    }
   ],
   "source": [
    "# create a mask to remove unusable data \n",
    "sex_check = df.loc[df[\"sex\"].isin([\"lli\", \"N\", \".\"])]\n",
    "\n",
    "# print the rows there are in to view data\n",
    "print(sex_check) # with only 4 rows of data - feel safe to delete\n",
    "df = df.drop(sex_check.index)\n",
    "\n",
    "# replace the 'M ' and change to standard 'M'\n",
    "replace = {\"M \": \"M\"}\n",
    "df[\"sex\"] = df[\"sex\"].replace(replace)\n",
    "\n",
    "# take a look after cleaning sex column -  should be M, F and nan\n",
    "df.sex.unique()"
   ]
  },
  {
   "cell_type": "markdown",
   "id": "5beb5bfe-0bde-4bfd-aaf5-b0b1f46a45b9",
   "metadata": {},
   "source": [
    "##### Column 'type'"
   ]
  },
  {
   "cell_type": "code",
   "execution_count": 11,
   "id": "2752e6f9-cc72-43e2-ac40-9cfae4f18bca",
   "metadata": {},
   "outputs": [
    {
     "data": {
      "text/plain": [
       "array(['Boating', 'Unprovoked', 'Invalid', 'Provoked', 'Questionable',\n",
       "       'Sea Disaster', nan, 'Boat', 'Boatomg'], dtype=object)"
      ]
     },
     "execution_count": 11,
     "metadata": {},
     "output_type": "execute_result"
    }
   ],
   "source": [
    "df.type.unique()"
   ]
  },
  {
   "cell_type": "code",
   "execution_count": 12,
   "id": "84f8fc3a-aa5d-4ffd-9663-364d0860c5f9",
   "metadata": {},
   "outputs": [
    {
     "data": {
      "text/plain": [
       "array(['Boating', 'Unprovoked', 'Not Recorded', 'Provoked', nan],\n",
       "      dtype=object)"
      ]
     },
     "execution_count": 12,
     "metadata": {},
     "output_type": "execute_result"
    }
   ],
   "source": [
    "# change to provoked, boating, Not Recorded and unprovoked\n",
    "type_replace = {'Boating': 'Boating',\n",
    "                'Invalid': 'Not Recorded',\n",
    "                'Questionable': 'Not Recorded',\n",
    "                'Sea Disaster': 'Boating', \n",
    "                'Boat': 'Boating',\n",
    "                'Boatomg': 'Boating'\n",
    "}\n",
    "\n",
    "# replace\n",
    "df[\"type\"] = df.type.replace(type_replace)\n",
    "\n",
    "# check unique valuse in type\n",
    "df.type.unique()"
   ]
  },
  {
   "cell_type": "markdown",
   "id": "e770f0f3-7e7a-408f-9177-6d9e69a587c5",
   "metadata": {},
   "source": [
    "##### Column 'fatal'"
   ]
  },
  {
   "cell_type": "code",
   "execution_count": 13,
   "id": "dc65d6a8-0179-498a-b4b9-fa94d2d0d1b5",
   "metadata": {},
   "outputs": [
    {
     "data": {
      "text/plain": [
       "array(['N', 'Y', nan, 'M', 'UNKNOWN', '2017', ' N', 'N ', 'y'],\n",
       "      dtype=object)"
      ]
     },
     "execution_count": 13,
     "metadata": {},
     "output_type": "execute_result"
    }
   ],
   "source": [
    "df.fatal.unique()"
   ]
  },
  {
   "cell_type": "code",
   "execution_count": 14,
   "id": "949389db-e32a-4854-a22c-b95a74e30597",
   "metadata": {},
   "outputs": [
    {
     "name": "stdout",
     "output_type": "stream",
     "text": [
      "          date    year      type           country      area      location  \\\n",
      "285  18-Apr-16  2016.0  Provoked  FRENCH POLYNESIA  Tuamotos  Makemo Atoll   \n",
      "786  10-Jun-12  2012.0  Provoked             ITALY  Sardinia      Muravera   \n",
      "\n",
      "                                            activity sex age  \\\n",
      "285                                     Spearfishing   M  22   \n",
      "786  Attempting to rescue an injured & beached shark   M  57   \n",
      "\n",
      "                                                injury fatal     time  \\\n",
      "285  Laceration to knee by speared shark PROVOKED I...     M  Morning   \n",
      "786           Lower left leg injured PROVOKED ACCIDENT  2017  Morning   \n",
      "\n",
      "                  species  \n",
      "285  Grey reef shark, 2 m  \n",
      "786      Blue shark, 2.5m  \n"
     ]
    },
    {
     "data": {
      "text/plain": [
       "array(['N', 'Y', nan, 'Not Recorded'], dtype=object)"
      ]
     },
     "execution_count": 14,
     "metadata": {},
     "output_type": "execute_result"
    }
   ],
   "source": [
    "# create a mask\n",
    "fatal_check = df.loc[df[\"fatal\"].isin([\"M\", \"2017\"])]\n",
    "\n",
    "# print the rows there are in to view data\n",
    "print(fatal_check) # with only 2 rows of data - feel safe to delete\n",
    "df = df.drop(fatal_check.index)\n",
    "\n",
    "# take ' N ' 'N ' and 'y ' and fix typos\n",
    "fatal_replace = {\" N\": \"N\", \"N \": \"N\", \"y\": \"Y\", 'UNKNOWN': 'Not Recorded'}\n",
    "df.fatal = df.fatal.replace(fatal_replace)\n",
    "\n",
    "# take a look after cleaning sex column -  should be M, F and nan\n",
    "df.fatal.unique()"
   ]
  },
  {
   "cell_type": "markdown",
   "id": "eec08a71-bd00-4009-b9ec-98b45a0898e2",
   "metadata": {},
   "source": [
    "##### Column 'year'"
   ]
  },
  {
   "cell_type": "code",
   "execution_count": 15,
   "id": "467e861f-4417-448d-96e5-8836c9c466f0",
   "metadata": {},
   "outputs": [
    {
     "data": {
      "text/plain": [
       "<bound method Series.unique of 0        2018\n",
       "1        2018\n",
       "2        2018\n",
       "3        2018\n",
       "4        2018\n",
       "         ... \n",
       "25718     nan\n",
       "25719     nan\n",
       "25720     nan\n",
       "25721     nan\n",
       "25722     nan\n",
       "Name: year, Length: 25717, dtype: object>"
      ]
     },
     "execution_count": 15,
     "metadata": {},
     "output_type": "execute_result"
    }
   ],
   "source": [
    "# Convert 'year' column to string\n",
    "df['year'] = df['year'].astype(str)\n",
    "\n",
    "# Remove decimal points from each string in the 'year' column\n",
    "df['year'] = df['year'].apply(lambda x: x.split('.')[0])\n",
    "\n",
    "# Display the DataFrame to verify the changes\n",
    "df.year.unique"
   ]
  },
  {
   "cell_type": "code",
   "execution_count": 16,
   "id": "f80e2fef-1bc2-48dc-9956-5522af7b33f9",
   "metadata": {},
   "outputs": [
    {
     "name": "stderr",
     "output_type": "stream",
     "text": [
      "C:\\Users\\Kelsey\\AppData\\Local\\Temp\\ipykernel_7280\\1125964037.py:7: UserWarning: Could not infer format, so each element will be parsed individually, falling back to `dateutil`. To ensure parsing is consistent and as-expected, please specify a format.\n",
      "  df.date = pd.to_datetime(df.date, errors=\"coerce\")\n"
     ]
    }
   ],
   "source": [
    "# standardize column 'date'\n",
    "# get rid of any words added to the date\n",
    "df.date = df.date.astype(str)\n",
    "df.loc[df[\"date\"].str.startswith(\"Reported \"), \"date\"] = df.date.str.replace(\"Reported \", \"\")\n",
    "\n",
    "# standardize dates\n",
    "df.date = pd.to_datetime(df.date, errors=\"coerce\")"
   ]
  },
  {
   "cell_type": "code",
   "execution_count": 17,
   "id": "b26afed8-2b38-488a-a3fe-e47852911d09",
   "metadata": {},
   "outputs": [
    {
     "name": "stdout",
     "output_type": "stream",
     "text": [
      "[2073 2072 2071 2070 2069 2068 2067 2066 2065 2064 2054 2063 2062 2061\n",
      " 2060 2059 2058 2057 2056 2055 2053 2052 2051 2050 2049 2048 2047 2046\n",
      " 2045 2044 2043 2042 2041 2040 2039 2038 2037 2036 2035 2034 2033 2032\n",
      " 2031 2030 2029 2028 2027 2026 2025 2024 2023 2022 2021]\n"
     ]
    },
    {
     "name": "stderr",
     "output_type": "stream",
     "text": [
      "C:\\Users\\Kelsey\\AppData\\Local\\Temp\\ipykernel_7280\\320012998.py:8: RuntimeWarning: invalid value encountered in cast\n",
      "  unique_years = unique_years.astype(int)\n"
     ]
    }
   ],
   "source": [
    "# clean dates\n",
    "df['date'] = pd.to_datetime(df['date'])\n",
    "unique_years = df['date'].dt.year.unique()\n",
    "\n",
    "# remove typoes from the dates\n",
    "df['date'] = pd.to_datetime(df['date'])\n",
    "unique_years = df['date'].dt.year.unique()\n",
    "unique_years = unique_years.astype(int)\n",
    "typos_mask = (unique_years > 2020)\n",
    "print(unique_years[typos_mask])\n",
    "\n",
    "# unique_years[typos_mask] -= 100\n",
    "df = df[~(df['date'].dt.year > 2022)]"
   ]
  },
  {
   "cell_type": "code",
   "execution_count": 18,
   "id": "7640eced-fb1e-4fa7-b8fb-1c33e8343f36",
   "metadata": {},
   "outputs": [
    {
     "data": {
      "text/plain": [
       "array(['2018', '2017', 'nan', '2016', '2015', '2014', '2013', '2012',\n",
       "       '2011', '2010', '2009', '2008', '2007', '2006', '2005', '2004',\n",
       "       '2003', '2002', '2001', '2000', '1999', '1998', '1997', '1996',\n",
       "       '1995', '1984', '1994', '1993', '1992', '1991', '1990', '1989',\n",
       "       '1969', '1988', '1987', '1986', '1985', '1983', '1982', '1981',\n",
       "       '1980', '1979', '1978', '1977', '1976', '1975', '1974', '1973',\n",
       "       '1972', '1971', '1970', '1968', '1967', '1966', '1965', '1964',\n",
       "       '1963', '1962', '1961', '1960', '1959', '1958', '1957', '1956',\n",
       "       '1955', '1954', '1953', '1952', '1951', '1950', '1949', '1948',\n",
       "       '1848', '1947', '1946', '1945', '1944', '1943', '1942', '1941',\n",
       "       '1940', '1939', '1938', '1937', '1936', '1935', '1934', '1933',\n",
       "       '1932', '1931', '1930', '1929', '1928', '1927', '1926', '1925',\n",
       "       '1924', '1923', '1922', '1921', '1920', '1919', '1918', '1917',\n",
       "       '1916', '1915', '1914', '1913', '1912', '1911', '1910', '1909',\n",
       "       '1908', '1907', '1906', '1905', '1904', '1903', '1902', '1901',\n",
       "       '1900', '1899', '1898', '1897', '1896', '1895', '1894', '1893',\n",
       "       '1892', '1891', '1890', '1889', '1888', '1887', '1886', '1885',\n",
       "       '1884', '1883', '1882', '1881', '1880', '1879', '1878', '1877',\n",
       "       '1876', '1875', '1874', '1873', '1872', '1871', '1870', '1869',\n",
       "       '1868', '1867', '1866', '1865', '1864', '1863', '1862', '1861',\n",
       "       '1860', '1859', '1858', '1857', '1856', '1855', '1853', '1852',\n",
       "       '1851', '1850', '1849', '1847', '1846', '1845', '1844', '1842',\n",
       "       '1841', '1840', '1839', '1837', '1836', '1835', '1834', '1832',\n",
       "       '1831', '1830', '1829', '1828', '1827', '1826', '1825', '1823',\n",
       "       '1822', '1819', '1818', '1817', '1816', '1815', '1812', '1811',\n",
       "       '1810', '1808', '1807', '1805', '1804', '1803', '1802', '1800',\n",
       "       '1797', '1792', '1791', '1788', '1787', '1786', '1785', '1784',\n",
       "       '1783', '1780', '1779', '1776', '1771', '1767', '1764', '1758',\n",
       "       '1753', '1751', '1749', '1755', '1748', '1742', '1738', '1733',\n",
       "       '1723', '1721', '1703', '1700', '1642', '1638', '1637', '1617',\n",
       "       '1595', '1580', '1555', '1554', '1543', '500', '77', '5', '0'],\n",
       "      dtype=object)"
      ]
     },
     "execution_count": 18,
     "metadata": {},
     "output_type": "execute_result"
    }
   ],
   "source": [
    "df.year.unique()"
   ]
  },
  {
   "cell_type": "markdown",
   "id": "da663052-630a-4f90-9705-b99051fe538d",
   "metadata": {},
   "source": [
    "##### Column 'activity'"
   ]
  },
  {
   "cell_type": "code",
   "execution_count": 19,
   "id": "4a8433b3-3578-4f3a-b087-1b1a32442dbf",
   "metadata": {},
   "outputs": [
    {
     "data": {
      "text/plain": [
       "activity\n",
       "Surfing                                                                                                                                                                   931\n",
       "Swimming                                                                                                                                                                  657\n",
       "Fishing                                                                                                                                                                   290\n",
       "Spearfishing                                                                                                                                                              232\n",
       "Bathing                                                                                                                                                                   137\n",
       "                                                                                                                                                                         ... \n",
       "Fisherman                                                                                                                                                                   1\n",
       "Zosimo & his son, Jeffrey Popa, failed to return from overnight fishing trip in a 14' boat, Boat apparently sank, debris recovered but his son & boat were never found      1\n",
       "Preparing to fish for jack-mackerel                                                                                                                                         1\n",
       "Scuba diving                                                                                                                                                                1\n",
       "Wreck of  large double sailing canoe                                                                                                                                        1\n",
       "Name: count, Length: 1000, dtype: int64"
      ]
     },
     "execution_count": 19,
     "metadata": {},
     "output_type": "execute_result"
    }
   ],
   "source": [
    "# take a look at value counts of activity to see the different categories\n",
    "df.activity.value_counts()"
   ]
  },
  {
   "cell_type": "code",
   "execution_count": 20,
   "id": "1a60b4c8-0041-41c6-8091-eab69bef17a5",
   "metadata": {},
   "outputs": [],
   "source": [
    "# create key words to search for to simplify activity values\n",
    "activity_key_dict = {\n",
    "    \"Surf\": \"Surfing\",\n",
    "    \"board\": \"Surfing\",\n",
    "    \"Swim\": \"Swimming\",\n",
    "    \"Rowing\": \"Boating\",\n",
    "    \"Canoeingg\": \"Boating\",\n",
    "    \"kayaking\": \"Boating\",\n",
    "    \"boat\": \"Boating\",\n",
    "    \"Cruising\": \"Boating\",\n",
    "    \"Treading\": \"Swimming\",\n",
    "    \"Fish\": \"Fishing\",\n",
    "    \"Float\": \"Floating\",\n",
    "    \"Kite\": \"Kitboarding\",\n",
    "    \"Disaster\": \"Accident\",\n",
    "    \"drifted\": \"Accident\",\n",
    "    \"overboard\": \"Accident\",\n",
    "    \"capsized\": \"Accident\",\n",
    "    \"sank\": \"Accident\",\n",
    "    \"wreck\": \"Accident\",\n",
    "    \"crash\": \"Accident\",\n",
    "    \"sunk\": \"Accident\",\n",
    "    \"Navy\": \"Accident\",\n",
    "    \"fell\": \"Accident\",\n",
    "    \"sharks\": \"Handling a Shark\",\n",
    "    \"shark\": \"Handling a Shark\",\n",
    "    \"washing\": \"In Shallow Water\",\n",
    "    \"playing\": \"In Shallow Water\",\n",
    "    \"standing\": \"In Shallow Water\",\n",
    "    \"sitting\": \"In Shallow Water\",\n",
    "    \"splashing\": \"In Shallow Water\",\n",
    "    \"jumped\": \"Entered Water\",\n",
    "    \"jumping\": \"Entered Water\",\n",
    "    \"Escaping\": \"Entered Water\",\n",
    "    \"drill\": \"Entered Water\",\n",
    "    \"diving\": \"Diving\",\n",
    "    \"dived\": \"Diving\",\n",
    "    \"Snorkeling\": \"Diving\",\n",
    "    \"netting\": \"Fishing\",\n",
    "    \"crabbing\": \"Fishing\",\n",
    "    \"clamming\": \"Fishing\",\n",
    "    \"Bathing\": \"Bathing\",\n",
    "    \"SUP\": \"Paddleboarding\"\n",
    "}\n",
    "# fill any null values\n",
    "df[\"activity\"] = df[\"activity\"].fillna(\"Not Recorded\")\n",
    "\n",
    "# apply all search keys to values in activites to sort unique vaules into categories for plotting\n",
    "for search_key, activity in activity_key_dict.items():\n",
    "    contains_search_key = df.activity.str.contains(search_key, case=False)\n",
    "    df.loc[contains_search_key, \"activity\"] = activity\n",
    "\n",
    "# any specifically unique species values not categorized rename as other\n",
    "unique_activity = df.activity.value_counts()[df.activity.value_counts() == 1].index.tolist()\n",
    "df.loc[df.activity.isin(unique_activity), \"activity\"] = \"Other\"\n",
    "\n",
    "# rename typoes and blank space\n",
    "dotrow = df[df[\"activity\"] == \".\"]\n",
    "dot_activity = df[df[\"activity\"] == \".\"].index\n",
    "df.loc[dot_activity, \"activity\"] = \"Other\"\n",
    "\n",
    "activity_spacerow = df[df[\"activity\"] == \"\"]\n",
    "activity_space = df[df[\"activity\"] == \"\"].index\n",
    "df.loc[activity_space, \"activity\"] = \"Not Recorded\""
   ]
  },
  {
   "cell_type": "code",
   "execution_count": 21,
   "id": "0b4fa10c-b275-4e54-a624-0344cd1b4259",
   "metadata": {},
   "outputs": [
    {
     "data": {
      "text/plain": [
       "activity\n",
       "Not Recorded                  19831\n",
       "Surfing                        1397\n",
       "Swimming                        797\n",
       "Fishing                         742\n",
       "Diving                          436\n",
       "Bathing                         155\n",
       "Boating                         145\n",
       "Other                           136\n",
       "Wading                          121\n",
       "In Shallow Water                117\n",
       "Accident                         97\n",
       "Handling a Shark                 87\n",
       "Floating                         34\n",
       "Walking                          15\n",
       "Entered Water                    15\n",
       "Canoeing                         11\n",
       "Sailing                           8\n",
       "Murder                            6\n",
       "Dangling feet in the water        5\n",
       "Paddleskiing                      4\n",
       "Paddleboarding                    3\n",
       "Unknown                           3\n",
       "Ocean racing                      2\n",
       "Paddling                          2\n",
       "Jet skiing                        2\n",
       "Suicide                           2\n",
       "Name: count, dtype: int64"
      ]
     },
     "execution_count": 21,
     "metadata": {},
     "output_type": "execute_result"
    }
   ],
   "source": [
    "df.activity.value_counts()"
   ]
  },
  {
   "cell_type": "code",
   "execution_count": 22,
   "id": "bea89fdf-d3a3-493f-86b0-71aa8a5f0215",
   "metadata": {},
   "outputs": [
    {
     "data": {
      "text/plain": [
       "array(['Paddling', 'In Shallow Water', 'Surfing', 'Diving', 'Swimming',\n",
       "       'Fishing', 'Walking', 'Handling a Shark', 'Other', 'Wading',\n",
       "       'Not Recorded', 'Boating', 'Bathing', 'Canoeing', 'Paddleboarding',\n",
       "       'Floating', 'Accident', 'Sailing', 'Entered Water', 'Jet skiing',\n",
       "       'Murder', 'Unknown', 'Paddleskiing', 'Dangling feet in the water',\n",
       "       'Ocean racing', 'Suicide'], dtype=object)"
      ]
     },
     "execution_count": 22,
     "metadata": {},
     "output_type": "execute_result"
    }
   ],
   "source": [
    "df.activity.unique()"
   ]
  },
  {
   "cell_type": "code",
   "execution_count": 23,
   "id": "3d92e136-5687-4fcd-bd73-debb77c8ecc4",
   "metadata": {},
   "outputs": [
    {
     "data": {
      "text/plain": [
       "26"
      ]
     },
     "execution_count": 23,
     "metadata": {},
     "output_type": "execute_result"
    }
   ],
   "source": [
    "df.activity.nunique()"
   ]
  },
  {
   "cell_type": "markdown",
   "id": "409fc237-476c-4e83-a004-03091a721e87",
   "metadata": {},
   "source": [
    "##### Column 'species'"
   ]
  },
  {
   "cell_type": "code",
   "execution_count": 24,
   "id": "333f005e-df4c-4203-92d2-1de085eae64c",
   "metadata": {},
   "outputs": [
    {
     "data": {
      "text/plain": [
       "species\n",
       "White shark                                                                                                                      134\n",
       "Shark involvement not confirmed                                                                                                   74\n",
       "Shark involvement prior to death was not confirmed                                                                                62\n",
       "Invalid                                                                                                                           61\n",
       "Tiger shark                                                                                                                       58\n",
       "                                                                                                                                ... \n",
       "5' to 7' shark                                                                                                                     1\n",
       "12' to 18' shark                                                                                                                   1\n",
       "Said to involve a 1.5 m shark                                                                                                      1\n",
       "Whitetip reef shark                                                                                                                1\n",
       "Said to involve a grey nurse shark that leapt out of the water and  seized the boy but species identification is questionable      1\n",
       "Name: count, Length: 1163, dtype: int64"
      ]
     },
     "execution_count": 24,
     "metadata": {},
     "output_type": "execute_result"
    }
   ],
   "source": [
    "# show value counts of species \n",
    "df.species.value_counts()"
   ]
  },
  {
   "cell_type": "code",
   "execution_count": 25,
   "id": "a9b74752-b535-4609-b01f-a82e07d57ee7",
   "metadata": {},
   "outputs": [],
   "source": [
    "# make any blank entries unknown species\n",
    "df[\"species\"] = df[\"species\"].fillna(\"Not Recorded\")\n",
    "\n",
    "# create key words to search for to simplify species values\n",
    "species_key_dict = {\n",
    "    \"bull\": \"Bull Shark\",\n",
    "    \"tiger\": \"Tiger Shark\",\n",
    "    \"lemon\": \"Lemon Shark\",\n",
    "    \"nurse\": \"Nurse Shark\",\n",
    "    \"white\": \"Great White Shark\",\n",
    "    \"wobbegong\": \"Wobbegong Shark\",\n",
    "    \"reef\": \"Reef Shark\",\n",
    "    \"Blacktip\": \"Blacktip Shark\",\n",
    "    \"Hammerhead\": \"Hammerhead Shark\",\n",
    "    \"Mako\": \"Mako Shark\",\n",
    "    \"Zambesi\": \"Zambesi Shark\",\n",
    "    \"Raggedtooth\": \"Raggedtooth Shark\",\n",
    "    \"not confirmed\": \"Unknown\",\n",
    "    \"unconfirmed\": \"Unknown\",\n",
    "    \"Invalid\": \"Unknown\",\n",
    "    \"Possibly\": \"Unknown\",\n",
    "    \"Probable\": \"Unknown\",\n",
    "    \"Unidentified\": \"Unknown\",\n",
    "    \"Unknown\": \"Unknown\",\n",
    "    \"Bronze\": \"Bronze Whaler Shark\",\n",
    "    \"sand\": \"Sand Shark\",\n",
    "    \"questionable\": \"No Shark Sighted\",\n",
    "    \"doubtful\": \"No Shark Sighted\",\n",
    "    \"not cofirmed\": \"No Shark Sighted\",\n",
    "    \"pack\": \"Multiple Sharks\",\n",
    "    \"school\": \"Multiple Sharks\",\n",
    "    \"Multiple\": \"Multiple Sharks\",\n",
    "    \"juvenile\": \"Unknown Juvenile Shark\",\n",
    "    \"Blue pointer\": \"Mako Shark\",\n",
    "    \"bonito\": \"Mako Shark\",\n",
    "    \"Silvertip\": \"Silvertip Shark\",\n",
    "    \"Porbeagle\": \"Porbeagle Shark\",\n",
    "    \"Spinner\": \"Spinner Shark\",\n",
    "    \"dogfish\": \"Dogfish Shark\",\n",
    "    \"Squalidae\": \"Dogfish Shark\",\n",
    "    \"Spurdogs\": \"Dogfish Shark\",\n",
    "    \"Goblin\": \"Goblin Shark\",\n",
    "    \"Dusky\": \"Dusky Shark\",\n",
    "    \"basking\": \"Baskign Shark\",\n",
    "    \"Scyliorhinus\": \"Dogfish Shark\",\n",
    "    \"dog\": \"Dogfish Shark\",\n",
    "    \"blue shark\": \"Great Blue Shark\",\n",
    "    \"sevengill\": \"SevenGill Shark\",\n",
    "    \"black tipped\": \"Black Tipped Shark\",\n",
    "    \"Zambesi\": \"Zambesi Shark\",\n",
    "    \"Copper\": \"Copper Shark\",\n",
    "    \"bronze whaler\": \"Copper Shark\",\n",
    "    \"narrowtooth\": \"Copper Shark\",\n",
    "    \"whaler\": \"Dusky Shark\",\n",
    "    \"Triakis semifasciata\": \"Leopard Shark\",\n",
    "    \"Leopard\": \"Lepoard Shark\",\n",
    "    \"angle\": \"Angleshark\",\n",
    "    \"monkfish\": \"Angleshark\",\n",
    "    \"\\xa0\": \"Not Recorded\"\n",
    "}\n",
    "\n",
    "# apply all search keys to values in activites to sort unique vaules into \n",
    "for search_key, species in species_key_dict.items():\n",
    "    contains_search_key = df.species.str.contains(search_key, case=False)\n",
    "    df.loc[contains_search_key, \"species\"] = species\n",
    "\n",
    "# function to rename all unreported species values or unknown species to 'unknown shark'\n",
    "def rename_shark_species(species):\n",
    "    if species[0].isdigit():\n",
    "        return \"Not Recorded\"\n",
    "    elif \" to \" in str(species) or \" m \" in str(species):\n",
    "        return \"Not Recorded\"\n",
    "    elif \"small\" in species or \"large\" in species:\n",
    "        return \"Not Recorded\"\n",
    "    elif \"Small\" in species or \"Large\" in species:\n",
    "        return \"Not Recorded\"\n",
    "    else: \n",
    "        return species\n",
    "df.species = df.species.apply(rename_shark_species)\n",
    "\n",
    "# any specifically unique species values not categorized rename as unknown\n",
    "unknown_species = df.species.value_counts()[df.species.value_counts() == 1].index.tolist()\n",
    "df.loc[df.species.isin(unknown_species), \"species\"] = \"Not Recorded\"\n",
    "\n",
    "spacerow = df[df['species'] == \" \"]\n",
    "space_species = df[df[\"species\"] == \" \"].index\n",
    "df.loc[space_species, \"species\"] = \"Not Recorded\""
   ]
  },
  {
   "cell_type": "code",
   "execution_count": 26,
   "id": "859184c8-1d77-474d-a299-b9ae48a20ab0",
   "metadata": {},
   "outputs": [
    {
     "data": {
      "text/plain": [
       "species\n",
       "Not Recorded              22325\n",
       "Great White Shark           521\n",
       "Unknown                     311\n",
       "Tiger Shark                 222\n",
       "Bull Shark                  170\n",
       "Blacktip Shark               78\n",
       "No Shark Sighted             68\n",
       "Reef Shark                   58\n",
       "Nurse Shark                  51\n",
       "Copper Shark                 50\n",
       "Mako Shark                   41\n",
       "Raggedtooth Shark            40\n",
       "Wobbegong Shark              31\n",
       "Hammerhead Shark             30\n",
       "Lemon Shark                  26\n",
       "Great Blue Shark             22\n",
       "No shark involvement         21\n",
       "Spinner Shark                17\n",
       "Sand Shark                   14\n",
       "Zambesi Shark                12\n",
       "SevenGill Shark              12\n",
       "Dusky Shark                   9\n",
       "Unknown Juvenile Shark        7\n",
       "Dogfish Shark                 7\n",
       "Angel shark                   5\n",
       "Porbeagle Shark               5\n",
       "Baskign Shark                 4\n",
       "Galapagos shark               3\n",
       "Multiple Sharks               3\n",
       "Goblin Shark                  2\n",
       "Salmon shark                  2\n",
       "Seven-gill shark              2\n",
       "Silvertip Shark               2\n",
       "Whale shark                   2\n",
       "Name: count, dtype: int64"
      ]
     },
     "execution_count": 26,
     "metadata": {},
     "output_type": "execute_result"
    }
   ],
   "source": [
    "df.species.value_counts()"
   ]
  },
  {
   "cell_type": "code",
   "execution_count": 27,
   "id": "2fb38d36-4807-455d-9329-b34baf3f307b",
   "metadata": {},
   "outputs": [
    {
     "data": {
      "text/plain": [
       "array(['Great White Shark', 'Not Recorded', 'Tiger Shark', 'Lemon Shark',\n",
       "       'Bull Shark', 'Reef Shark', 'Unknown', 'Nurse Shark',\n",
       "       'No Shark Sighted', 'Wobbegong Shark', 'Blacktip Shark',\n",
       "       'Great Blue Shark', 'Spinner Shark', 'Porbeagle Shark',\n",
       "       'Seven-gill shark', 'SevenGill Shark', 'Angel shark',\n",
       "       'Dogfish Shark', 'Mako Shark', 'Copper Shark',\n",
       "       'No shark involvement', 'Galapagos shark', 'Hammerhead Shark',\n",
       "       'Unknown Juvenile Shark', 'Raggedtooth Shark', 'Goblin Shark',\n",
       "       'Sand Shark', 'Salmon shark', 'Zambesi Shark', 'Dusky Shark',\n",
       "       'Baskign Shark', 'Silvertip Shark', 'Whale shark',\n",
       "       'Multiple Sharks'], dtype=object)"
      ]
     },
     "execution_count": 27,
     "metadata": {},
     "output_type": "execute_result"
    }
   ],
   "source": [
    "df.species.unique()"
   ]
  },
  {
   "cell_type": "code",
   "execution_count": 28,
   "id": "e32baafa-1dbb-442a-8dbc-b4bb566a92cf",
   "metadata": {},
   "outputs": [
    {
     "data": {
      "text/plain": [
       "34"
      ]
     },
     "execution_count": 28,
     "metadata": {},
     "output_type": "execute_result"
    }
   ],
   "source": [
    "df.species.nunique()"
   ]
  },
  {
   "cell_type": "markdown",
   "id": "469cab8d-d7c8-40da-b722-573222f55e7a",
   "metadata": {},
   "source": [
    "##### Coulmn 'injury'"
   ]
  },
  {
   "cell_type": "code",
   "execution_count": 29,
   "id": "a063c0be-3fa5-44bd-bf20-c86dbc4eb71f",
   "metadata": {},
   "outputs": [
    {
     "data": {
      "text/plain": [
       "array(['No injury to occupant, outrigger canoe and paddle damaged',\n",
       "       'Minor injury to left thigh',\n",
       "       'Injury to left lower leg from surfboard skeg', ...,\n",
       "       'FATAL, leg stripped of flesh  ',\n",
       "       'FATAL, knocked overboard by tail of shark & carried off by shark ',\n",
       "       'FATAL. \"Shark bit him in half, carrying away the lower extremities\" '],\n",
       "      dtype=object)"
      ]
     },
     "execution_count": 29,
     "metadata": {},
     "output_type": "execute_result"
    }
   ],
   "source": [
    "# view values of injury column\n",
    "df.injury.unique()"
   ]
  },
  {
   "cell_type": "code",
   "execution_count": 30,
   "id": "23f67052-9f84-43ca-af9c-27d1e2fff121",
   "metadata": {},
   "outputs": [],
   "source": [
    "# make any blank entries unknown species\n",
    "df.injury = df.injury.fillna(\"Not Recorded\")\n",
    "\n",
    "# create key words to search for and rename to simplify injury values\n",
    "injury_key_dict = {\n",
    "    \"fatal\": \"Fatal\",\n",
    "    \"killed\": \"Fatal\",\n",
    "    \"arm\": \"Arm\",\n",
    "    \"elbow\": \"Arm\",\n",
    "    \"shoulder\": \"Arm\",\n",
    "    \"leg\": \"Leg\",\n",
    "    \"thigh\": \"Thigh\",\n",
    "    \"shin\": \"Leg\",\n",
    "    \"torso\": \"Torso\",\n",
    "    \"chest\": \"Torso\",\n",
    "    \"no injury\": \"No Injury\",\n",
    "    \"foot\": \"Foot\",\n",
    "    \"calf\": \"Calf\",\n",
    "    \"ankle\": \"Ankle\",\n",
    "    \"hand\": \"Hand\",\n",
    "    \"fingers\": \"Hand\",\n",
    "    \"finger\": \"Hand\",\n",
    "    \"heel\": \"Foot\",\n",
    "    \"toe\": \"Foot\",\n",
    "    \"hip\": \"Hip\",\n",
    "    \"wrist\": \"Hand\",\n",
    "    \"knee\": \"Knee\",\n",
    "    \"No Injury\": \"No Injury\",\n",
    "    \"boat\": \"No Injury\",\n",
    "    \"post-mortem\": \"Not Recorded\",\n",
    "    \"Abdomen\": \"Torso\",\n",
    "    \"drowning\": \"Drowned\",\n",
    "    \"Drowned\": \"Drowned\",\n",
    "    \"buttocks\": \"Hip\",\n",
    "    \"buttock\": \"Hip\",\n",
    "    \"back\": \"Torso\",\n",
    "    \"post mortem\": \"Not Recorded\",\n",
    "    \"remains found\": \"Not Recorded\",\n",
    "    \"prior to death\": \"Not Recorded\",\n",
    "    \"Missing\": \"Not Recorded\",\n",
    "    \"head\": \"Head\",\n",
    "    \"ribs\": \"Torso\",\n",
    "    \"groin\": \"Hips\",\n",
    "    \"cheek\": \"Head\",\n",
    "    \"Calves\": \"Leg\",\n",
    "    \"face\": \"Head\",\n",
    "    \"thumb\": \"Hand\",\n",
    "    \"femur\": \"Hip\",\n",
    "    \"No inury\": \"No Injury\",\n",
    "    \"PROVOKED\": \"Not Recorded\",\n",
    "    \"not confirmed\": \"Not Recorded\",\n",
    "    \"unconfirmed\": \"Not Recorded\",\n",
    "    \"Minor injuries\": \"Not Recorded\",\n",
    "    \"Abrasion\": \"Abrasions\",\n",
    "    \"uninjured\": \"No Injury\",\n",
    "    \"been taken\": \"Not Recorded\",\n",
    "    \"Swim fin\": \"Swimgear Bitten\"\n",
    "    \n",
    "}\n",
    "\n",
    "# apply all search keys to values in injury to sort unique vaules into assosicated categories\n",
    "for search_key, injury in injury_key_dict.items():\n",
    "    contains_search_key = df.injury.str.contains(search_key, case=False)\n",
    "    df.loc[contains_search_key, \"injury\"] = injury\n",
    "\n",
    "# any specifitally unique injury values not categorized rename as other\n",
    "unique_injury = df.injury.value_counts()[df.injury.value_counts() == 1].index.tolist()\n",
    "df.loc[df.injury.isin(unique_injury), \"injury\"] = \"Other\""
   ]
  },
  {
   "cell_type": "code",
   "execution_count": 31,
   "id": "171d70ed-de4e-483d-9716-187608ca4ae2",
   "metadata": {},
   "outputs": [
    {
     "data": {
      "text/plain": [
       "array(['No Injury', 'Thigh', 'Leg', 'Fatal', 'Foot', 'Hand', 'Arm',\n",
       "       'Other', 'Ankle', 'Calf', 'Not Recorded', 'Abrasions', 'Hip',\n",
       "       'Torso', 'Drowned', 'Knee', 'Head', 'Minor injury', 'No details',\n",
       "       'Lacerations', 'Survived', 'Hips', 'Swimgear Bitten', 'Recovered'],\n",
       "      dtype=object)"
      ]
     },
     "execution_count": 31,
     "metadata": {},
     "output_type": "execute_result"
    }
   ],
   "source": [
    "df.injury.unique()"
   ]
  },
  {
   "cell_type": "code",
   "execution_count": 32,
   "id": "0984854a-48fe-4e87-b58c-d99eaf9f62e0",
   "metadata": {},
   "outputs": [
    {
     "data": {
      "text/plain": [
       "injury\n",
       "Not Recorded       19546\n",
       "Fatal               1003\n",
       "Foot                 650\n",
       "No Injury            610\n",
       "Leg                  607\n",
       "Arm                  408\n",
       "Hand                 313\n",
       "Thigh                228\n",
       "Other                175\n",
       "Calf                 168\n",
       "Ankle                 85\n",
       "Survived              75\n",
       "Torso                 68\n",
       "Drowned               63\n",
       "Knee                  40\n",
       "No details            33\n",
       "Head                  32\n",
       "Hip                   27\n",
       "Minor injury          16\n",
       "Abrasions              9\n",
       "Lacerations            6\n",
       "Swimgear Bitten        6\n",
       "Recovered              3\n",
       "Hips                   2\n",
       "Name: count, dtype: int64"
      ]
     },
     "execution_count": 32,
     "metadata": {},
     "output_type": "execute_result"
    }
   ],
   "source": [
    "df.injury.value_counts()"
   ]
  },
  {
   "cell_type": "code",
   "execution_count": 33,
   "id": "646b3deb-39fb-40f2-a2e8-c4983d20d77b",
   "metadata": {},
   "outputs": [
    {
     "data": {
      "text/plain": [
       "24"
      ]
     },
     "execution_count": 33,
     "metadata": {},
     "output_type": "execute_result"
    }
   ],
   "source": [
    "df.injury.nunique()"
   ]
  },
  {
   "cell_type": "markdown",
   "id": "560fb121-bd0f-4930-a326-1b5c2483440b",
   "metadata": {},
   "source": [
    "### Visualization"
   ]
  },
  {
   "cell_type": "code",
   "execution_count": 34,
   "id": "d3d7a9c5-2c69-4c9d-90db-e3802b46d5e5",
   "metadata": {},
   "outputs": [
    {
     "data": {
      "image/png": "[encoded data removed]",
      "text/plain": [
       "<Figure size 1000x600 with 1 Axes>"
      ]
     },
     "metadata": {},
     "output_type": "display_data"
    }
   ],
   "source": [
    "# Extract month from the 'date' column\n",
    "df[\"month\"] = df[\"date\"].dt.month\n",
    "\n",
    "# Count attacks per month\n",
    "attacks_per_month = df['month'].value_counts().sort_index()\n",
    "\n",
    "# Create a line chart\n",
    "plt.figure(figsize=(10, 6))\n",
    "attacks_per_month.plot(marker='o', linestyle='-')\n",
    "\n",
    "plt.title('Number of Attacks per Month')\n",
    "plt.xlabel('Month')\n",
    "plt.ylabel('Number of Attacks')\n",
    "plt.xticks(range(1, 13))  # Set ticks for each month\n",
    "plt.grid(color=\"lightgrey\", linestyle=\"--\", alpha=.5)\n",
    "plt.show()"
   ]
  },
  {
   "cell_type": "code",
   "execution_count": 35,
   "id": "2ca339ef-1939-4611-ad56-25600c797a31",
   "metadata": {},
   "outputs": [
    {
     "data": {
      "image/png": "[encoded data removed]",
      "text/plain": [
       "<Figure size 1200x600 with 1 Axes>"
      ]
     },
     "metadata": {},
     "output_type": "display_data"
    }
   ],
   "source": [
    "# Convert 'date' column to datetime\n",
    "df['date'] = pd.to_datetime(df['date'])\n",
    "\n",
    "# Extract year from the 'date' column\n",
    "df['year'] = df['date'].dt.year\n",
    "\n",
    "# Create a violin plot\n",
    "plt.figure(figsize=(12, 6))\n",
    "sns.violinplot(x='year', data=df, inner='quartile')  # Set inner parameter to quartile for quartiles to be drawn inside the violins\n",
    "plt.title('Distribution of Attacks per Year')\n",
    "plt.xlabel('Year')\n",
    "plt.ylabel('Number of Attacks')\n",
    "plt.xticks(rotation=45)  # Rotate x-axis labels for better visibility\n",
    "plt.grid(axis=\"y\", color=\"lightgrey\", linestyle=\"--\", alpha=.5)\n",
    "plt.show()"
   ]
  },
  {
   "cell_type": "code",
   "execution_count": 42,
   "id": "07169410-6c4e-468d-a3d1-f943dbf363f8",
   "metadata": {},
   "outputs": [
    {
     "ename": "NameError",
     "evalue": "name 'fatal_activities_melted' is not defined",
     "output_type": "error",
     "traceback": [
      "\u001b[1;31m---------------------------------------------------------------------------\u001b[0m",
      "\u001b[1;31mNameError\u001b[0m                                 Traceback (most recent call last)",
      "Cell \u001b[1;32mIn[42], line 22\u001b[0m\n\u001b[0;32m     20\u001b[0m colors \u001b[38;5;241m=\u001b[39m {\u001b[38;5;124m\"\u001b[39m\u001b[38;5;124mY\u001b[39m\u001b[38;5;124m\"\u001b[39m: \u001b[38;5;124m\"\u001b[39m\u001b[38;5;124m#904247\u001b[39m\u001b[38;5;124m\"\u001b[39m, \u001b[38;5;124m\"\u001b[39m\u001b[38;5;124mN\u001b[39m\u001b[38;5;124m\"\u001b[39m: \u001b[38;5;124m\"\u001b[39m\u001b[38;5;124m#277397\u001b[39m\u001b[38;5;124m\"\u001b[39m}\n\u001b[0;32m     21\u001b[0m plt\u001b[38;5;241m.\u001b[39mfigure(figsize\u001b[38;5;241m=\u001b[39m(\u001b[38;5;241m8\u001b[39m, \u001b[38;5;241m6\u001b[39m))\n\u001b[1;32m---> 22\u001b[0m sns\u001b[38;5;241m.\u001b[39mbarplot(data\u001b[38;5;241m=\u001b[39m\u001b[43mfatal_activities_melted\u001b[49m, x\u001b[38;5;241m=\u001b[39m\u001b[38;5;124m'\u001b[39m\u001b[38;5;124mactivity\u001b[39m\u001b[38;5;124m'\u001b[39m, y\u001b[38;5;241m=\u001b[39m\u001b[38;5;124m'\u001b[39m\u001b[38;5;124mcount\u001b[39m\u001b[38;5;124m'\u001b[39m, hue\u001b[38;5;241m=\u001b[39m\u001b[38;5;124m'\u001b[39m\u001b[38;5;124mfatal\u001b[39m\u001b[38;5;124m'\u001b[39m, order\u001b[38;5;241m=\u001b[39morder, palette\u001b[38;5;241m=\u001b[39mcolors)\n\u001b[0;32m     23\u001b[0m plt\u001b[38;5;241m.\u001b[39mxticks(rotation\u001b[38;5;241m=\u001b[39m\u001b[38;5;241m45\u001b[39m, ha\u001b[38;5;241m=\u001b[39m\u001b[38;5;124m'\u001b[39m\u001b[38;5;124mright\u001b[39m\u001b[38;5;124m'\u001b[39m)  \u001b[38;5;66;03m# Rotate x-axis labels for better readability\u001b[39;00m\n\u001b[0;32m     24\u001b[0m plt\u001b[38;5;241m.\u001b[39mxlabel(\u001b[38;5;124m'\u001b[39m\u001b[38;5;124mActivity\u001b[39m\u001b[38;5;124m'\u001b[39m)\n",
      "\u001b[1;31mNameError\u001b[0m: name 'fatal_activities_melted' is not defined"
     ]
    },
    {
     "data": {
      "text/plain": [
       "<Figure size 800x600 with 0 Axes>"
      ]
     },
     "metadata": {},
     "output_type": "display_data"
    }
   ],
   "source": [
    "# create data frame with activity and fataly/n and remove nulls\n",
    "activities_df = df[[\"activity\", \"fatal\"]].copy()\n",
    "activities_df.dropna(inplace=True)\n",
    "activites_df2 = activities_df[activities_df[\"activity\"] != \"Not Recorded\"]\n",
    "\n",
    "# groupby data for activity and fatality\n",
    "fatal_activities = activites_df2.groupby(\"activity\")[\"fatal\"].value_counts().unstack(fill_value=0)\n",
    "\n",
    "# Reset index to flatten\n",
    "fatal_activities_df = fatal_activities.reset_index()\n",
    "\n",
    "# get fatal values seperate\n",
    "fatal_activities_melt = fatal_activities_df.melt(id_vars=['activity'], value_vars=['N', 'Y'], var_name='fatal', value_name='count')\n",
    "\n",
    "# Sort in descending order and find bottom counts \n",
    "order = fatal_activities_melt.groupby('activity')['count'].sum().sort_values(ascending=False).index\n",
    "bottom_activities = fatal_activities_melt.groupby('activity')['count'].sum().nsmallest(10).index\n",
    "\n",
    "# create \n",
    "colors = {\"Y\": \"#904247\", \"N\": \"#277397\"}\n",
    "plt.figure(figsize=(8, 6))\n",
    "sns.barplot(data=fatal_activities_melted, x='activity', y='count', hue='fatal', order=order, palette=colors)\n",
    "plt.xticks(rotation=45, ha='right')  # Rotate x-axis labels for better readability\n",
    "plt.xlabel('Activity')\n",
    "plt.ylabel('Number of Incidents')\n",
    "plt.title('Shark Incidents by Activity')\n",
    "plt.grid(axis=\"y\", color=\"lightgrey\", linestyle=\"--\", alpha=.5)\n",
    "\n",
    "# create insert for smallest values \n",
    "ax_inset = plt.axes([0.6, 0.5, 0.25, 0.3])  \n",
    "sns.barplot(data=fatal_activities_melted[fatal_activities_melted['activity'].isin(bottom_activities)], \n",
    "            x='activity', y='count', hue='fatal', palette=colors, ax=ax_inset)\n",
    "plt.xticks(rotation=45, ha='right')  \n",
    "plt.xlabel('Activity')\n",
    "plt.ylabel('Number of Incidents')\n",
    "plt.title('Least Common Activities')\n",
    "\n",
    "ax_inset.legend().remove()\n",
    "\n",
    "plt.grid(axis=\"y\", color=\"lightgrey\", linestyle=\"--\", alpha=.5)\n",
    "plt.show()"
   ]
  },
  {
   "cell_type": "code",
   "execution_count": 41,
   "id": "b809d895-38e6-40c9-be45-2bd3fbda8595",
   "metadata": {},
   "outputs": [
    {
     "ename": "KeyError",
     "evalue": "'activity'",
     "output_type": "error",
     "traceback": [
      "\u001b[1;31m---------------------------------------------------------------------------\u001b[0m",
      "\u001b[1;31mKeyError\u001b[0m                                  Traceback (most recent call last)",
      "File \u001b[1;32m~\\anaconda3\\envs\\dev\\lib\\site-packages\\pandas\\core\\indexes\\base.py:3805\u001b[0m, in \u001b[0;36mIndex.get_loc\u001b[1;34m(self, key)\u001b[0m\n\u001b[0;32m   3804\u001b[0m \u001b[38;5;28;01mtry\u001b[39;00m:\n\u001b[1;32m-> 3805\u001b[0m     \u001b[38;5;28;01mreturn\u001b[39;00m \u001b[38;5;28;43mself\u001b[39;49m\u001b[38;5;241;43m.\u001b[39;49m\u001b[43m_engine\u001b[49m\u001b[38;5;241;43m.\u001b[39;49m\u001b[43mget_loc\u001b[49m\u001b[43m(\u001b[49m\u001b[43mcasted_key\u001b[49m\u001b[43m)\u001b[49m\n\u001b[0;32m   3806\u001b[0m \u001b[38;5;28;01mexcept\u001b[39;00m \u001b[38;5;167;01mKeyError\u001b[39;00m \u001b[38;5;28;01mas\u001b[39;00m err:\n",
      "File \u001b[1;32mindex.pyx:167\u001b[0m, in \u001b[0;36mpandas._libs.index.IndexEngine.get_loc\u001b[1;34m()\u001b[0m\n",
      "File \u001b[1;32mindex.pyx:196\u001b[0m, in \u001b[0;36mpandas._libs.index.IndexEngine.get_loc\u001b[1;34m()\u001b[0m\n",
      "File \u001b[1;32mpandas\\\\_libs\\\\hashtable_class_helper.pxi:7081\u001b[0m, in \u001b[0;36mpandas._libs.hashtable.PyObjectHashTable.get_item\u001b[1;34m()\u001b[0m\n",
      "File \u001b[1;32mpandas\\\\_libs\\\\hashtable_class_helper.pxi:7089\u001b[0m, in \u001b[0;36mpandas._libs.hashtable.PyObjectHashTable.get_item\u001b[1;34m()\u001b[0m\n",
      "\u001b[1;31mKeyError\u001b[0m: 'activity'",
      "\nThe above exception was the direct cause of the following exception:\n",
      "\u001b[1;31mKeyError\u001b[0m                                  Traceback (most recent call last)",
      "Cell \u001b[1;32mIn[41], line 11\u001b[0m\n\u001b[0;32m      9\u001b[0m activites_df2 \u001b[38;5;241m=\u001b[39m activities_df[activities_df[\u001b[38;5;124m\"\u001b[39m\u001b[38;5;124mactivity\u001b[39m\u001b[38;5;124m\"\u001b[39m] \u001b[38;5;241m!=\u001b[39m \u001b[38;5;124m\"\u001b[39m\u001b[38;5;124mNot Recorded\u001b[39m\u001b[38;5;124m\"\u001b[39m]\n\u001b[0;32m     10\u001b[0m activites_df3 \u001b[38;5;241m=\u001b[39m activites_df2\u001b[38;5;241m.\u001b[39mgroupby(\u001b[38;5;124m'\u001b[39m\u001b[38;5;124mactivity\u001b[39m\u001b[38;5;124m'\u001b[39m)\u001b[38;5;241m.\u001b[39mcount()\n\u001b[1;32m---> 11\u001b[0m top_activities \u001b[38;5;241m=\u001b[39m \u001b[43mactivites_df3\u001b[49m\u001b[38;5;241;43m.\u001b[39;49m\u001b[43mnlargest\u001b[49m\u001b[43m(\u001b[49m\u001b[38;5;241;43m15\u001b[39;49m\u001b[43m,\u001b[49m\u001b[43m \u001b[49m\u001b[38;5;124;43m'\u001b[39;49m\u001b[38;5;124;43mactivity\u001b[39;49m\u001b[38;5;124;43m'\u001b[39;49m\u001b[43m)\u001b[49m\n\u001b[0;32m     13\u001b[0m top_activity_names \u001b[38;5;241m=\u001b[39m top_activities\u001b[38;5;241m.\u001b[39mindex\u001b[38;5;241m.\u001b[39mtolist()\n\u001b[0;32m     15\u001b[0m \u001b[38;5;66;03m# Filter the original DataFrame based on the top 16 activities\u001b[39;00m\n",
      "File \u001b[1;32m~\\anaconda3\\envs\\dev\\lib\\site-packages\\pandas\\core\\frame.py:7631\u001b[0m, in \u001b[0;36mDataFrame.nlargest\u001b[1;34m(self, n, columns, keep)\u001b[0m\n\u001b[0;32m   7512\u001b[0m \u001b[38;5;28;01mdef\u001b[39;00m \u001b[38;5;21mnlargest\u001b[39m(\n\u001b[0;32m   7513\u001b[0m     \u001b[38;5;28mself\u001b[39m, n: \u001b[38;5;28mint\u001b[39m, columns: IndexLabel, keep: NsmallestNlargestKeep \u001b[38;5;241m=\u001b[39m \u001b[38;5;124m\"\u001b[39m\u001b[38;5;124mfirst\u001b[39m\u001b[38;5;124m\"\u001b[39m\n\u001b[0;32m   7514\u001b[0m ) \u001b[38;5;241m-\u001b[39m\u001b[38;5;241m>\u001b[39m DataFrame:\n\u001b[0;32m   7515\u001b[0m \u001b[38;5;250m    \u001b[39m\u001b[38;5;124;03m\"\"\"\u001b[39;00m\n\u001b[0;32m   7516\u001b[0m \u001b[38;5;124;03m    Return the first `n` rows ordered by `columns` in descending order.\u001b[39;00m\n\u001b[0;32m   7517\u001b[0m \n\u001b[1;32m   (...)\u001b[0m\n\u001b[0;32m   7629\u001b[0m \u001b[38;5;124;03m    Brunei      434000    12128      BN\u001b[39;00m\n\u001b[0;32m   7630\u001b[0m \u001b[38;5;124;03m    \"\"\"\u001b[39;00m\n\u001b[1;32m-> 7631\u001b[0m     \u001b[38;5;28;01mreturn\u001b[39;00m \u001b[43mselectn\u001b[49m\u001b[38;5;241;43m.\u001b[39;49m\u001b[43mSelectNFrame\u001b[49m\u001b[43m(\u001b[49m\u001b[38;5;28;43mself\u001b[39;49m\u001b[43m,\u001b[49m\u001b[43m \u001b[49m\u001b[43mn\u001b[49m\u001b[38;5;241;43m=\u001b[39;49m\u001b[43mn\u001b[49m\u001b[43m,\u001b[49m\u001b[43m \u001b[49m\u001b[43mkeep\u001b[49m\u001b[38;5;241;43m=\u001b[39;49m\u001b[43mkeep\u001b[49m\u001b[43m,\u001b[49m\u001b[43m \u001b[49m\u001b[43mcolumns\u001b[49m\u001b[38;5;241;43m=\u001b[39;49m\u001b[43mcolumns\u001b[49m\u001b[43m)\u001b[49m\u001b[38;5;241;43m.\u001b[39;49m\u001b[43mnlargest\u001b[49m\u001b[43m(\u001b[49m\u001b[43m)\u001b[49m\n",
      "File \u001b[1;32m~\\anaconda3\\envs\\dev\\lib\\site-packages\\pandas\\core\\methods\\selectn.py:57\u001b[0m, in \u001b[0;36mSelectN.nlargest\u001b[1;34m(self)\u001b[0m\n\u001b[0;32m     55\u001b[0m \u001b[38;5;129m@final\u001b[39m\n\u001b[0;32m     56\u001b[0m \u001b[38;5;28;01mdef\u001b[39;00m \u001b[38;5;21mnlargest\u001b[39m(\u001b[38;5;28mself\u001b[39m):\n\u001b[1;32m---> 57\u001b[0m     \u001b[38;5;28;01mreturn\u001b[39;00m \u001b[38;5;28;43mself\u001b[39;49m\u001b[38;5;241;43m.\u001b[39;49m\u001b[43mcompute\u001b[49m\u001b[43m(\u001b[49m\u001b[38;5;124;43m\"\u001b[39;49m\u001b[38;5;124;43mnlargest\u001b[39;49m\u001b[38;5;124;43m\"\u001b[39;49m\u001b[43m)\u001b[49m\n",
      "File \u001b[1;32m~\\anaconda3\\envs\\dev\\lib\\site-packages\\pandas\\core\\methods\\selectn.py:199\u001b[0m, in \u001b[0;36mSelectNFrame.compute\u001b[1;34m(self, method)\u001b[0m\n\u001b[0;32m    196\u001b[0m columns \u001b[38;5;241m=\u001b[39m \u001b[38;5;28mself\u001b[39m\u001b[38;5;241m.\u001b[39mcolumns\n\u001b[0;32m    198\u001b[0m \u001b[38;5;28;01mfor\u001b[39;00m column \u001b[38;5;129;01min\u001b[39;00m columns:\n\u001b[1;32m--> 199\u001b[0m     dtype \u001b[38;5;241m=\u001b[39m \u001b[43mframe\u001b[49m\u001b[43m[\u001b[49m\u001b[43mcolumn\u001b[49m\u001b[43m]\u001b[49m\u001b[38;5;241m.\u001b[39mdtype\n\u001b[0;32m    200\u001b[0m     \u001b[38;5;28;01mif\u001b[39;00m \u001b[38;5;129;01mnot\u001b[39;00m \u001b[38;5;28mself\u001b[39m\u001b[38;5;241m.\u001b[39mis_valid_dtype_n_method(dtype):\n\u001b[0;32m    201\u001b[0m         \u001b[38;5;28;01mraise\u001b[39;00m \u001b[38;5;167;01mTypeError\u001b[39;00m(\n\u001b[0;32m    202\u001b[0m             \u001b[38;5;124mf\u001b[39m\u001b[38;5;124m\"\u001b[39m\u001b[38;5;124mColumn \u001b[39m\u001b[38;5;132;01m{\u001b[39;00m\u001b[38;5;28mrepr\u001b[39m(column)\u001b[38;5;132;01m}\u001b[39;00m\u001b[38;5;124m has dtype \u001b[39m\u001b[38;5;132;01m{\u001b[39;00mdtype\u001b[38;5;132;01m}\u001b[39;00m\u001b[38;5;124m, \u001b[39m\u001b[38;5;124m\"\u001b[39m\n\u001b[0;32m    203\u001b[0m             \u001b[38;5;124mf\u001b[39m\u001b[38;5;124m\"\u001b[39m\u001b[38;5;124mcannot use method \u001b[39m\u001b[38;5;132;01m{\u001b[39;00m\u001b[38;5;28mrepr\u001b[39m(method)\u001b[38;5;132;01m}\u001b[39;00m\u001b[38;5;124m with this dtype\u001b[39m\u001b[38;5;124m\"\u001b[39m\n\u001b[0;32m    204\u001b[0m         )\n",
      "File \u001b[1;32m~\\anaconda3\\envs\\dev\\lib\\site-packages\\pandas\\core\\frame.py:4090\u001b[0m, in \u001b[0;36mDataFrame.__getitem__\u001b[1;34m(self, key)\u001b[0m\n\u001b[0;32m   4088\u001b[0m \u001b[38;5;28;01mif\u001b[39;00m \u001b[38;5;28mself\u001b[39m\u001b[38;5;241m.\u001b[39mcolumns\u001b[38;5;241m.\u001b[39mnlevels \u001b[38;5;241m>\u001b[39m \u001b[38;5;241m1\u001b[39m:\n\u001b[0;32m   4089\u001b[0m     \u001b[38;5;28;01mreturn\u001b[39;00m \u001b[38;5;28mself\u001b[39m\u001b[38;5;241m.\u001b[39m_getitem_multilevel(key)\n\u001b[1;32m-> 4090\u001b[0m indexer \u001b[38;5;241m=\u001b[39m \u001b[38;5;28;43mself\u001b[39;49m\u001b[38;5;241;43m.\u001b[39;49m\u001b[43mcolumns\u001b[49m\u001b[38;5;241;43m.\u001b[39;49m\u001b[43mget_loc\u001b[49m\u001b[43m(\u001b[49m\u001b[43mkey\u001b[49m\u001b[43m)\u001b[49m\n\u001b[0;32m   4091\u001b[0m \u001b[38;5;28;01mif\u001b[39;00m is_integer(indexer):\n\u001b[0;32m   4092\u001b[0m     indexer \u001b[38;5;241m=\u001b[39m [indexer]\n",
      "File \u001b[1;32m~\\anaconda3\\envs\\dev\\lib\\site-packages\\pandas\\core\\indexes\\base.py:3812\u001b[0m, in \u001b[0;36mIndex.get_loc\u001b[1;34m(self, key)\u001b[0m\n\u001b[0;32m   3807\u001b[0m     \u001b[38;5;28;01mif\u001b[39;00m \u001b[38;5;28misinstance\u001b[39m(casted_key, \u001b[38;5;28mslice\u001b[39m) \u001b[38;5;129;01mor\u001b[39;00m (\n\u001b[0;32m   3808\u001b[0m         \u001b[38;5;28misinstance\u001b[39m(casted_key, abc\u001b[38;5;241m.\u001b[39mIterable)\n\u001b[0;32m   3809\u001b[0m         \u001b[38;5;129;01mand\u001b[39;00m \u001b[38;5;28many\u001b[39m(\u001b[38;5;28misinstance\u001b[39m(x, \u001b[38;5;28mslice\u001b[39m) \u001b[38;5;28;01mfor\u001b[39;00m x \u001b[38;5;129;01min\u001b[39;00m casted_key)\n\u001b[0;32m   3810\u001b[0m     ):\n\u001b[0;32m   3811\u001b[0m         \u001b[38;5;28;01mraise\u001b[39;00m InvalidIndexError(key)\n\u001b[1;32m-> 3812\u001b[0m     \u001b[38;5;28;01mraise\u001b[39;00m \u001b[38;5;167;01mKeyError\u001b[39;00m(key) \u001b[38;5;28;01mfrom\u001b[39;00m \u001b[38;5;21;01merr\u001b[39;00m\n\u001b[0;32m   3813\u001b[0m \u001b[38;5;28;01mexcept\u001b[39;00m \u001b[38;5;167;01mTypeError\u001b[39;00m:\n\u001b[0;32m   3814\u001b[0m     \u001b[38;5;66;03m# If we have a listlike key, _check_indexing_error will raise\u001b[39;00m\n\u001b[0;32m   3815\u001b[0m     \u001b[38;5;66;03m#  InvalidIndexError. Otherwise we fall through and re-raise\u001b[39;00m\n\u001b[0;32m   3816\u001b[0m     \u001b[38;5;66;03m#  the TypeError.\u001b[39;00m\n\u001b[0;32m   3817\u001b[0m     \u001b[38;5;28mself\u001b[39m\u001b[38;5;241m.\u001b[39m_check_indexing_error(key)\n",
      "\u001b[1;31mKeyError\u001b[0m: 'activity'"
     ]
    }
   ],
   "source": [
    "# species_fatalities = species_activity.groupby('species')['fatal'].count()\n",
    "# top_species = species_fatalities.nlargest(5)\n",
    "\n",
    "# get the activites for the 5 top species \n",
    "# top_species_activities = species_activity[species_activity['species'].isin(top_species.index)]\n",
    "\n",
    "activities_df = df[[\"activity\", \"fatal\"]].copy()\n",
    "activities_df.dropna(inplace=True)\n",
    "activites_df2 = activities_df[activities_df[\"activity\"] != \"Not Recorded\"]\n",
    "activites_df3 = activites_df2.groupby('activity').count()\n",
    "top_activities = activites_df3.nlargest(15, 'activity')\n",
    "\n",
    "top_activity_names = top_activities.index.tolist()\n",
    "\n",
    "# Filter the original DataFrame based on the top 16 activities\n",
    "filtered_df = df[df[\"activity\"].isin(top_activity_names)]\n",
    "\n",
    "# groupby data for activity and fatality\n",
    "fatal_activities = top_activites.groupby(\"activity\")[\"fatal\"].value_counts().unstack(fill_value=0)\n",
    "\n",
    "# Reset index to flatten\n",
    "fatal_activities_df = fatal_activities.reset_index()\n",
    "\n",
    "# get fatal values seperate\n",
    "fatal_activities_melt = fatal_activities_df.melt(id_vars=['activity'], value_vars=['N', 'Y'], var_name='fatal', value_name='count')\n",
    "\n",
    "# Sort in descending order and find bottom counts \n",
    "order = fatal_activities_melt.groupby('activity')['count'].sum().sort_values(ascending=False).index\n",
    "bottom_activities = fatal_activities_melted.groupby('activity')['count'].sum().nsmallest(10).index\n",
    "\n",
    "# create \n",
    "colors = {\"Y\": \"#904247\", \"N\": \"#277397\"}\n",
    "plt.figure(figsize=(8, 6))\n",
    "sns.barplot(data=fatal_activities_melted, x='activity', y='count', hue='fatal', order=order, palette=colors)\n",
    "plt.xticks(rotation=45, ha='right')  # Rotate x-axis labels for better readability\n",
    "plt.xlabel('Activity')\n",
    "plt.ylabel('Number of Incidents')\n",
    "plt.title('Shark Incidents by Activity')\n",
    "plt.grid(axis=\"y\", color=\"lightgrey\", linestyle=\"--\", alpha=.5)\n",
    "\n",
    "# create insert for smallest values \n",
    "ax_inset = plt.axes([0.6, 0.5, 0.25, 0.3])  \n",
    "sns.barplot(data=fatal_activities_melted[fatal_activities_melted['activity'].isin(bottom_activities)], \n",
    "            x='activity', y='count', hue='fatal', palette=colors, ax=ax_inset)\n",
    "plt.xticks(rotation=45, ha='right')  \n",
    "plt.xlabel('Activity')\n",
    "plt.ylabel('Number of Incidents')\n",
    "plt.title('Least Common Activities')\n",
    "\n",
    "ax_inset.legend().remove()\n",
    "\n",
    "plt.grid(axis=\"y\", color=\"lightgrey\", linestyle=\"--\", alpha=.5)\n",
    "plt.show()\n",
    "\n"
   ]
  },
  {
   "cell_type": "code",
   "execution_count": null,
   "id": "f38bfe08-cfce-48f5-ba60-31228d3a1f92",
   "metadata": {},
   "outputs": [],
   "source": [
    "import seaborn as sns\n",
    "import matplotlib.pyplot as plt\n",
    "import numpy as np\n",
    "\n",
    "# Set the color\n",
    "color = '#277397'\n",
    "\n",
    "# Extract month from the 'date' column\n",
    "df['month'] = df['date'].dt.month\n",
    "\n",
    "# Count attacks per month\n",
    "attacks_per_month = df['month'].value_counts().sort_index()\n",
    "\n",
    "# Create a line chart\n",
    "plt.figure(figsize=(10, 6))\n",
    "sns.regplot(x=attacks_per_month.index, y=attacks_per_month.values, color=color, marker='o', scatter_kws={'s': 100})\n",
    "\n",
    "# Calculate and print the correlation coefficient (r value)\n",
    "r = np.corrcoef(attacks_per_month.index, attacks_per_month.values)[0, 1]\n",
    "plt.text(9, 300, f\"r = {r:.2f}\", fontsize=12, color=color)\n",
    "\n",
    "plt.title('Number of Attacks per Month with Regression Line')\n",
    "plt.xlabel('Month')\n",
    "plt.ylabel('Number of Attacks')\n",
    "plt.xticks(range(1, 13))  # Set ticks for each month\n",
    "plt.grid(color=\"lightgrey\", linestyle=\"--\", alpha=.5)\n",
    "plt.show()"
   ]
  },
  {
   "cell_type": "code",
   "execution_count": null,
   "id": "7c1e780d-4ca8-4b0b-a0a6-335d130f9d34",
   "metadata": {},
   "outputs": [],
   "source": [
    "import matplotlib.pyplot as plt\n",
    "\n",
    "# Count the occurrences of each unique value in the 'sex' column\n",
    "sex_counts = df['sex'].value_counts()\n",
    "\n",
    "# Define colors for female and male\n",
    "colors = ['#439eb1', '#dc8184']\n",
    "\n",
    "# Plot the pie chart\n",
    "plt.figure(figsize=(5, 5))\n",
    "plt.pie(sex_counts, labels=sex_counts.index, autopct='%1.1f%%', startangle=140, colors=colors)\n",
    "plt.title('Distribution of Shark Attacks by Sex')\n",
    "plt.axis('equal')  # Equal aspect ratio ensures that pie is drawn as a circle\n",
    "plt.show()"
   ]
  },
  {
   "cell_type": "code",
   "execution_count": null,
   "id": "e59b96eb-7a77-4f4a-9ff9-6f1bf1f89b4a",
   "metadata": {},
   "outputs": [],
   "source": [
    "# bar chart of injury types\n",
    "# create df of injuries and remove nulls and the not listed values\n",
    "injury_data = df[\"injury\"].copy()\n",
    "# injury_data.dropna(inplace=True)\n",
    "injury_data = injury_data.loc[injury_data != \"Not Recorded\"]\n",
    "# get data \n",
    "injury_counts = injury_data.value_counts()\n",
    "\n",
    "# filter activites that are greater then 100 instances\n",
    "top_injurys = injury_counts[injury_counts > 20]\n",
    "\n",
    "# create canvas\n",
    "plt.figure(figsize=(10,8))\n",
    "plt.bar(top_injurys.index, top_injurys, color=\"#904247\")\n",
    "\n",
    "# customize\n",
    "plt.xlabel('Injury Type')\n",
    "plt.ylabel('Count')\n",
    "plt.title('Frequency of Injury Types')\n",
    "plt.xticks(rotation=90)\n",
    "plt.grid(axis=\"y\", color=\"lightgrey\", linestyle=\"--\", alpha=.5)\n",
    "\n",
    "# show \n",
    "plt.show"
   ]
  },
  {
   "cell_type": "code",
   "execution_count": null,
   "id": "e9061d58-6bb2-4800-a880-60f7bafd0247",
   "metadata": {},
   "outputs": [],
   "source": [
    "# graph of top 5 shark species and the top 5 activites recorded in their attacks\n",
    "# make a data frame of activites and species to drop nulls and unrecorded values\n",
    "species_activity = df[['species', 'activity', 'fatal']].copy()\n",
    "species_activity.dropna(inplace=True)\n",
    "species_activity = species_activity[(species_activity[\"species\"] != \"Unknown\") & \n",
    "                                    (species_activity[\"species\"] != \"No Shark Sighted\") &\n",
    "                                    (species_activity[\"species\"] != \"Unidentified\") &\n",
    "                                    (species_activity[\"activity\"] != \"Not Recorded\")]\n",
    "# get top 5 species for fatalities\n",
    "species_fatalities = species_activity.groupby('species')['fatal'].count()\n",
    "top_species = species_fatalities.nlargest(5)\n",
    "\n",
    "# get the activites for the 5 top species \n",
    "top_species_activities = species_activity[species_activity['species'].isin(top_species.index)]\n",
    "\n",
    "# use filtered data to find the top activites per the 5 most fatal species\n",
    "fatal_activites = top_species_activities.groupby('activity')['fatal'].count()\n",
    "top_activites = fatal_activites.nlargest(5)\n",
    "\n",
    "# create data with all filtered items\n",
    "activites_per_species = top_species_activities[top_species_activities['activity'].isin(top_activites.index)]\n",
    "\n",
    "# sort decending\n",
    "sorted_per_species = activites_per_species.groupby('species')['fatal'].count().sort_values(ascending=False).index\n",
    "\n",
    "# create graph\n",
    "colors = [\"#904247\", \"#dc8184\", \"#439eb1\", \"#277397\", \"#053979\"]\n",
    "plt.figure(figsize=(12, 8))\n",
    "sns.countplot(x='species', hue='activity', data=activites_per_species, palette=colors, order=sorted_per_species)\n",
    "\n",
    "#customize \n",
    "\n",
    "plt.legend(title='Activity', loc='center left', bbox_to_anchor=(1, 0.5))\n",
    "plt.title('Top Activites Per Shark', fontsize=16)\n",
    "plt.xlabel('Deadliest Sharks', fontsize=14)\n",
    "plt.ylabel('Number of Attacks', fontsize=14)\n",
    "plt.grid(axis=\"y\", color=\"lightgrey\", linestyle=\"--\", alpha=.5)\n",
    "# show\n",
    "plt.tight_layout()\n",
    "plt.show()"
   ]
  },
  {
   "cell_type": "code",
   "execution_count": null,
   "id": "acea5ca8-f307-4026-8cf3-f91a7009959b",
   "metadata": {},
   "outputs": [],
   "source": [
    "print(species_activity)"
   ]
  },
  {
   "cell_type": "code",
   "execution_count": null,
   "id": "d985031d-244d-4a3e-966e-a2434aa0b901",
   "metadata": {},
   "outputs": [],
   "source": [
    "print(top_species_activities)"
   ]
  },
  {
   "cell_type": "code",
   "execution_count": null,
   "id": "fc31ac79-146f-4ab7-b5e4-a4a3e6a73911",
   "metadata": {},
   "outputs": [],
   "source": [
    "print(top_activites)"
   ]
  },
  {
   "cell_type": "code",
   "execution_count": null,
   "id": "08a44860-e5b5-456e-9cf7-c8f4a003c64b",
   "metadata": {},
   "outputs": [],
   "source": [
    "# make df for species vs fatality\n",
    "fatality_by_species = df[[\"species\", \"fatal\"]].copy()\n",
    "fatality_by_species.dropna(inplace=True)\n",
    "# remove unhelpful data for plot\n",
    "fatality_by_species = fatality_by_species[(fatality_by_species[\"species\"] != \"Unknown\") & \n",
    "                                    (fatality_by_species[\"species\"] != \"No Shark Sighted\") &\n",
    "                                    (fatality_by_species[\"species\"] != \"Unidentified\")]\n",
    "# get fatal attacks per species\n",
    "fatality_counts = fatality_by_species[fatality_by_species[\"fatal\"] == \"Y\"][\"species\"].value_counts()\n",
    "\n",
    "# add pallette\n",
    "colors = [\"#904247\", \"#dc8184\", \"#439eb1\", \"#277397\", \"#053979\"]\n",
    "\n",
    "# create plot\n",
    "plt.figure(figsize=(8, 6))\n",
    "plt.bar(fatality_counts.index, fatality_counts, color=colors)\n",
    "\n",
    "# label and customize\n",
    "plt.title('Total Fatalities by Species', fontsize=16)\n",
    "plt.xlabel('Species', fontsize=14)\n",
    "plt.ylabel('Fatality Count', fontsize=14)\n",
    "plt.xticks(rotation=90)\n",
    "plt.grid(axis=\"y\", color=\"lightgrey\", linestyle=\"--\", alpha=.5)\n",
    "plt.gca().spines['top'].set_visible(False)\n",
    "plt.gca().spines['right'].set_visible(False)\n",
    "\n",
    "plt.show()"
   ]
  },
  {
   "cell_type": "code",
   "execution_count": null,
   "id": "db37cbb2-fa61-48fb-9b6f-16b2ec53b845",
   "metadata": {},
   "outputs": [],
   "source": [
    "df.groupby(\"age\").size()"
   ]
  },
  {
   "cell_type": "code",
   "execution_count": null,
   "id": "e26c1942-c1b2-412c-9a16-f21046eb3131",
   "metadata": {},
   "outputs": [],
   "source": [
    "df.fatal.value_counts()"
   ]
  },
  {
   "cell_type": "code",
   "execution_count": 44,
   "id": "a1aa3e3a-7ad8-49f4-a26e-26daca46f294",
   "metadata": {},
   "outputs": [
    {
     "name": "stdout",
     "output_type": "stream",
     "text": [
      "<class 'pandas.core.frame.DataFrame'>\n",
      "Index: 2525 entries, 0 to 6301\n",
      "Data columns (total 14 columns):\n",
      " #   Column    Non-Null Count  Dtype         \n",
      "---  ------    --------------  -----         \n",
      " 0   date      2466 non-null   datetime64[ns]\n",
      " 1   year      2466 non-null   float64       \n",
      " 2   type      2524 non-null   object        \n",
      " 3   country   2520 non-null   object        \n",
      " 4   area      2454 non-null   object        \n",
      " 5   location  2431 non-null   object        \n",
      " 6   activity  2525 non-null   object        \n",
      " 7   sex       2510 non-null   object        \n",
      " 8   age       2525 non-null   object        \n",
      " 9   injury    2525 non-null   object        \n",
      " 10  fatal     2364 non-null   object        \n",
      " 11  time      1792 non-null   object        \n",
      " 12  species   2525 non-null   object        \n",
      " 13  month     2466 non-null   float64       \n",
      "dtypes: datetime64[ns](1), float64(2), object(11)\n",
      "memory usage: 295.9+ KB\n"
     ]
    }
   ],
   "source": [
    "ages = ['57', '11', '48', '18', '52', '15', '12', '32', '10', '21',\n",
    "       '34', '30', '60', '33', '29', '54', '41', '37', '56', '19', '25',\n",
    "       '69', '38', '55', '35', '46', '45', '14', '28', '20', '24',\n",
    "       '26', '49', '22', '7', '31', '17', '40', '13', '42', '3', '8',\n",
    "       '50', '16', '82', '73', '68', '51', '39', '58',\n",
    "       '47', '61', '65', '36', '66', '43', '9', '72', '59', '6',\n",
    "       '27', '64', '23', '71', '44', '62', '63', '70', '53',\n",
    "        '77', '74', '5', '86',\n",
    "        '84', '75']\n",
    "df2 = df.loc[df.age.isin(ages)]\n",
    "df2.info()"
   ]
  },
  {
   "cell_type": "code",
   "execution_count": 45,
   "id": "0465af5c-eb3e-4aa7-9974-a0076216ef93",
   "metadata": {},
   "outputs": [
    {
     "name": "stdout",
     "output_type": "stream",
     "text": [
      "<class 'pandas.core.frame.DataFrame'>\n",
      "Index: 2525 entries, 0 to 6301\n",
      "Data columns (total 14 columns):\n",
      " #   Column    Non-Null Count  Dtype         \n",
      "---  ------    --------------  -----         \n",
      " 0   date      2466 non-null   datetime64[ns]\n",
      " 1   year      2466 non-null   float64       \n",
      " 2   type      2524 non-null   object        \n",
      " 3   country   2520 non-null   object        \n",
      " 4   area      2454 non-null   object        \n",
      " 5   location  2431 non-null   object        \n",
      " 6   activity  2525 non-null   object        \n",
      " 7   sex       2510 non-null   object        \n",
      " 8   age       2525 non-null   int64         \n",
      " 9   injury    2525 non-null   object        \n",
      " 10  fatal     2364 non-null   object        \n",
      " 11  time      1792 non-null   object        \n",
      " 12  species   2525 non-null   object        \n",
      " 13  month     2466 non-null   float64       \n",
      "dtypes: datetime64[ns](1), float64(2), int64(1), object(10)\n",
      "memory usage: 295.9+ KB\n"
     ]
    },
    {
     "name": "stderr",
     "output_type": "stream",
     "text": [
      "C:\\Users\\Kelsey\\AppData\\Local\\Temp\\ipykernel_7280\\3601731725.py:1: SettingWithCopyWarning: \n",
      "A value is trying to be set on a copy of a slice from a DataFrame.\n",
      "Try using .loc[row_indexer,col_indexer] = value instead\n",
      "\n",
      "See the caveats in the documentation: https://pandas.pydata.org/pandas-docs/stable/user_guide/indexing.html#returning-a-view-versus-a-copy\n",
      "  df2[\"age\"] = pd.to_numeric(df2[\"age\"])\n"
     ]
    }
   ],
   "source": [
    "df2[\"age\"] = pd.to_numeric(df2[\"age\"])\n",
    "df2.info()"
   ]
  },
  {
   "cell_type": "code",
   "execution_count": 46,
   "id": "5db4122c-ac5d-4be6-ab39-e180ce5d0c3e",
   "metadata": {},
   "outputs": [
    {
     "data": {
      "text/html": [
       "<div>\n",
       "<style scoped>\n",
       "    .dataframe tbody tr th:only-of-type {\n",
       "        vertical-align: middle;\n",
       "    }\n",
       "\n",
       "    .dataframe tbody tr th {\n",
       "        vertical-align: top;\n",
       "    }\n",
       "\n",
       "    .dataframe thead th {\n",
       "        text-align: right;\n",
       "    }\n",
       "</style>\n",
       "<table border=\"1\" class=\"dataframe\">\n",
       "  <thead>\n",
       "    <tr style=\"text-align: right;\">\n",
       "      <th></th>\n",
       "      <th>age</th>\n",
       "      <th>num_attacks</th>\n",
       "    </tr>\n",
       "  </thead>\n",
       "  <tbody>\n",
       "    <tr>\n",
       "      <th>0</th>\n",
       "      <td>3</td>\n",
       "      <td>3</td>\n",
       "    </tr>\n",
       "    <tr>\n",
       "      <th>1</th>\n",
       "      <td>5</td>\n",
       "      <td>6</td>\n",
       "    </tr>\n",
       "    <tr>\n",
       "      <th>2</th>\n",
       "      <td>6</td>\n",
       "      <td>13</td>\n",
       "    </tr>\n",
       "    <tr>\n",
       "      <th>3</th>\n",
       "      <td>7</td>\n",
       "      <td>21</td>\n",
       "    </tr>\n",
       "    <tr>\n",
       "      <th>4</th>\n",
       "      <td>8</td>\n",
       "      <td>19</td>\n",
       "    </tr>\n",
       "  </tbody>\n",
       "</table>\n",
       "</div>"
      ],
      "text/plain": [
       "   age  num_attacks\n",
       "0    3            3\n",
       "1    5            6\n",
       "2    6           13\n",
       "3    7           21\n",
       "4    8           19"
      ]
     },
     "execution_count": 46,
     "metadata": {},
     "output_type": "execute_result"
    }
   ],
   "source": [
    "age_df = df2.groupby(\"age\").size().reset_index()\n",
    "age_df.columns = [\"age\", \"num_attacks\"]\n",
    "age_df.head()"
   ]
  },
  {
   "cell_type": "code",
   "execution_count": 47,
   "id": "b17eed0f-6d9e-44e9-a6c4-2662585fd80d",
   "metadata": {},
   "outputs": [
    {
     "name": "stdout",
     "output_type": "stream",
     "text": [
      "<class 'pandas.core.frame.DataFrame'>\n",
      "RangeIndex: 75 entries, 0 to 74\n",
      "Data columns (total 2 columns):\n",
      " #   Column       Non-Null Count  Dtype\n",
      "---  ------       --------------  -----\n",
      " 0   age          75 non-null     int64\n",
      " 1   num_attacks  75 non-null     int64\n",
      "dtypes: int64(2)\n",
      "memory usage: 1.3 KB\n"
     ]
    }
   ],
   "source": [
    "age_df.info()"
   ]
  },
  {
   "cell_type": "code",
   "execution_count": 48,
   "id": "120f08c1-b230-48fd-80a6-5cf01ea5a4a7",
   "metadata": {},
   "outputs": [
    {
     "data": {
      "image/png": "[encoded data removed]",
      "text/plain": [
       "<Figure size 640x480 with 1 Axes>"
      ]
     },
     "metadata": {},
     "output_type": "display_data"
    }
   ],
   "source": [
    "plt.scatter(age_df.age, age_df.num_attacks)\n",
    "plt.show()"
   ]
  },
  {
   "cell_type": "code",
   "execution_count": 49,
   "id": "feab0f94-1379-4714-bf02-120d79285f9e",
   "metadata": {},
   "outputs": [],
   "source": [
    "age_df_young = age_df[age_df[\"age\"] <= 20 ]\n",
    "age_df_old = age_df[age_df[\"age\"] > 20 ]"
   ]
  },
  {
   "cell_type": "code",
   "execution_count": 50,
   "id": "5021a21a-2443-4fda-a7ef-0dbce73dd0ef",
   "metadata": {},
   "outputs": [
    {
     "data": {
      "image/png": "[encoded data removed]",
      "text/plain": [
       "<Figure size 640x480 with 1 Axes>"
      ]
     },
     "metadata": {},
     "output_type": "display_data"
    }
   ],
   "source": [
    "# use seaborns regplot to make a linear regression showing replationship between age and fataliy of attacks\n",
    "# for 20 and under:\n",
    "sns.regplot(x=\"age\", y=\"num_attacks\", data=age_df_young)\n",
    "\n",
    "# label\n",
    "plt.title(\"Fatal Shark Attacks for Ages 20 and Under\")\n",
    "plt.xlabel(\"Age\")\n",
    "# use matplotlibs ticker mod to set x labels as whole ints\n",
    "plt.gca().xaxis.set_major_locator(ticker.MaxNLocator(integer=True))\n",
    "plt.ylabel(\"Number of Fatal Attacks\")\n",
    "plt.grid(color=\"lightgrey\", linestyle=\"--\", alpha=.5)\n",
    "\n",
    "plt.show()"
   ]
  },
  {
   "cell_type": "code",
   "execution_count": 51,
   "id": "1180690f-f40b-4ce7-a2da-d23a757072f4",
   "metadata": {},
   "outputs": [
    {
     "data": {
      "image/png": "[encoded data removed]",
      "text/plain": [
       "<Figure size 640x480 with 1 Axes>"
      ]
     },
     "metadata": {},
     "output_type": "display_data"
    }
   ],
   "source": [
    "# use seaborns regplot to make a linear regression showing replationship between age and fataliy of attacks\n",
    "# for 21 and over:\n",
    "sns.regplot(x=\"age\", y=\"num_attacks\", data=age_df_old)\n",
    "\n",
    "#label\n",
    "plt.title(\"Fatal Shark Attacks for Ages Over 20\")\n",
    "plt.xlabel(\"Age\")\n",
    "plt.ylabel(\"Number of Fatal Attacks\")\n",
    "plt.grid(color=\"lightgrey\", linestyle=\"--\", alpha=.5)\n",
    "\n",
    "\n",
    "plt.show()"
   ]
  },
  {
   "cell_type": "code",
   "execution_count": 52,
   "id": "a78c2f35-bfd2-4b72-b32a-dfdcc407fd80",
   "metadata": {},
   "outputs": [
    {
     "data": {
      "text/plain": [
       "fatal\n",
       "0    2011\n",
       "1     353\n",
       "Name: count, dtype: int64"
      ]
     },
     "execution_count": 52,
     "metadata": {},
     "output_type": "execute_result"
    }
   ],
   "source": [
    "df3 = df2.loc[df2.fatal != \"UNKNOWN\", [\"age\", \"fatal\"]].dropna(how=\"any\")\n",
    "df3[\"fatal\"] = df3.fatal.apply(lambda x: 1 if x == \"Y\" else 0)\n",
    "df3.fatal.value_counts()\n"
   ]
  },
  {
   "cell_type": "code",
   "execution_count": 53,
   "id": "440c5387-fc7b-4802-a413-aa7fe0fac760",
   "metadata": {},
   "outputs": [
    {
     "data": {
      "text/html": [
       "<div>\n",
       "<style scoped>\n",
       "    .dataframe tbody tr th:only-of-type {\n",
       "        vertical-align: middle;\n",
       "    }\n",
       "\n",
       "    .dataframe tbody tr th {\n",
       "        vertical-align: top;\n",
       "    }\n",
       "\n",
       "    .dataframe thead th {\n",
       "        text-align: right;\n",
       "    }\n",
       "</style>\n",
       "<table border=\"1\" class=\"dataframe\">\n",
       "  <thead>\n",
       "    <tr style=\"text-align: right;\">\n",
       "      <th></th>\n",
       "      <th>age</th>\n",
       "      <th>fatal</th>\n",
       "    </tr>\n",
       "  </thead>\n",
       "  <tbody>\n",
       "    <tr>\n",
       "      <th>0</th>\n",
       "      <td>57</td>\n",
       "      <td>0</td>\n",
       "    </tr>\n",
       "    <tr>\n",
       "      <th>1</th>\n",
       "      <td>11</td>\n",
       "      <td>0</td>\n",
       "    </tr>\n",
       "    <tr>\n",
       "      <th>2</th>\n",
       "      <td>48</td>\n",
       "      <td>0</td>\n",
       "    </tr>\n",
       "    <tr>\n",
       "      <th>6</th>\n",
       "      <td>18</td>\n",
       "      <td>1</td>\n",
       "    </tr>\n",
       "    <tr>\n",
       "      <th>7</th>\n",
       "      <td>52</td>\n",
       "      <td>0</td>\n",
       "    </tr>\n",
       "  </tbody>\n",
       "</table>\n",
       "</div>"
      ],
      "text/plain": [
       "   age  fatal\n",
       "0   57      0\n",
       "1   11      0\n",
       "2   48      0\n",
       "6   18      1\n",
       "7   52      0"
      ]
     },
     "execution_count": 53,
     "metadata": {},
     "output_type": "execute_result"
    }
   ],
   "source": [
    "df3.head()"
   ]
  },
  {
   "cell_type": "markdown",
   "id": "8b7e5cd3-0e9d-4383-adc8-6cf46287abe5",
   "metadata": {},
   "source": [
    "### T Tests and Correlations"
   ]
  },
  {
   "cell_type": "code",
   "execution_count": 54,
   "id": "be7cc679-ddf6-4b6b-9dbc-cbcc3110c070",
   "metadata": {},
   "outputs": [
    {
     "data": {
      "text/html": [
       "<div>\n",
       "<style scoped>\n",
       "    .dataframe tbody tr th:only-of-type {\n",
       "        vertical-align: middle;\n",
       "    }\n",
       "\n",
       "    .dataframe tbody tr th {\n",
       "        vertical-align: top;\n",
       "    }\n",
       "\n",
       "    .dataframe thead tr th {\n",
       "        text-align: left;\n",
       "    }\n",
       "\n",
       "    .dataframe thead tr:last-of-type th {\n",
       "        text-align: right;\n",
       "    }\n",
       "</style>\n",
       "<table border=\"1\" class=\"dataframe\">\n",
       "  <thead>\n",
       "    <tr>\n",
       "      <th></th>\n",
       "      <th colspan=\"8\" halign=\"left\">fatal</th>\n",
       "    </tr>\n",
       "    <tr>\n",
       "      <th></th>\n",
       "      <th>count</th>\n",
       "      <th>mean</th>\n",
       "      <th>std</th>\n",
       "      <th>min</th>\n",
       "      <th>25%</th>\n",
       "      <th>50%</th>\n",
       "      <th>75%</th>\n",
       "      <th>max</th>\n",
       "    </tr>\n",
       "    <tr>\n",
       "      <th>age</th>\n",
       "      <th></th>\n",
       "      <th></th>\n",
       "      <th></th>\n",
       "      <th></th>\n",
       "      <th></th>\n",
       "      <th></th>\n",
       "      <th></th>\n",
       "      <th></th>\n",
       "    </tr>\n",
       "  </thead>\n",
       "  <tbody>\n",
       "    <tr>\n",
       "      <th>3</th>\n",
       "      <td>3.0</td>\n",
       "      <td>0.333333</td>\n",
       "      <td>0.577350</td>\n",
       "      <td>0.0</td>\n",
       "      <td>0.00</td>\n",
       "      <td>0.0</td>\n",
       "      <td>0.50</td>\n",
       "      <td>1.0</td>\n",
       "    </tr>\n",
       "    <tr>\n",
       "      <th>5</th>\n",
       "      <td>6.0</td>\n",
       "      <td>0.166667</td>\n",
       "      <td>0.408248</td>\n",
       "      <td>0.0</td>\n",
       "      <td>0.00</td>\n",
       "      <td>0.0</td>\n",
       "      <td>0.00</td>\n",
       "      <td>1.0</td>\n",
       "    </tr>\n",
       "    <tr>\n",
       "      <th>6</th>\n",
       "      <td>13.0</td>\n",
       "      <td>0.076923</td>\n",
       "      <td>0.277350</td>\n",
       "      <td>0.0</td>\n",
       "      <td>0.00</td>\n",
       "      <td>0.0</td>\n",
       "      <td>0.00</td>\n",
       "      <td>1.0</td>\n",
       "    </tr>\n",
       "    <tr>\n",
       "      <th>7</th>\n",
       "      <td>18.0</td>\n",
       "      <td>0.166667</td>\n",
       "      <td>0.383482</td>\n",
       "      <td>0.0</td>\n",
       "      <td>0.00</td>\n",
       "      <td>0.0</td>\n",
       "      <td>0.00</td>\n",
       "      <td>1.0</td>\n",
       "    </tr>\n",
       "    <tr>\n",
       "      <th>8</th>\n",
       "      <td>17.0</td>\n",
       "      <td>0.117647</td>\n",
       "      <td>0.332106</td>\n",
       "      <td>0.0</td>\n",
       "      <td>0.00</td>\n",
       "      <td>0.0</td>\n",
       "      <td>0.00</td>\n",
       "      <td>1.0</td>\n",
       "    </tr>\n",
       "    <tr>\n",
       "      <th>...</th>\n",
       "      <td>...</td>\n",
       "      <td>...</td>\n",
       "      <td>...</td>\n",
       "      <td>...</td>\n",
       "      <td>...</td>\n",
       "      <td>...</td>\n",
       "      <td>...</td>\n",
       "      <td>...</td>\n",
       "    </tr>\n",
       "    <tr>\n",
       "      <th>75</th>\n",
       "      <td>1.0</td>\n",
       "      <td>1.000000</td>\n",
       "      <td>NaN</td>\n",
       "      <td>1.0</td>\n",
       "      <td>1.00</td>\n",
       "      <td>1.0</td>\n",
       "      <td>1.00</td>\n",
       "      <td>1.0</td>\n",
       "    </tr>\n",
       "    <tr>\n",
       "      <th>77</th>\n",
       "      <td>2.0</td>\n",
       "      <td>0.500000</td>\n",
       "      <td>0.707107</td>\n",
       "      <td>0.0</td>\n",
       "      <td>0.25</td>\n",
       "      <td>0.5</td>\n",
       "      <td>0.75</td>\n",
       "      <td>1.0</td>\n",
       "    </tr>\n",
       "    <tr>\n",
       "      <th>82</th>\n",
       "      <td>1.0</td>\n",
       "      <td>0.000000</td>\n",
       "      <td>NaN</td>\n",
       "      <td>0.0</td>\n",
       "      <td>0.00</td>\n",
       "      <td>0.0</td>\n",
       "      <td>0.00</td>\n",
       "      <td>0.0</td>\n",
       "    </tr>\n",
       "    <tr>\n",
       "      <th>84</th>\n",
       "      <td>1.0</td>\n",
       "      <td>1.000000</td>\n",
       "      <td>NaN</td>\n",
       "      <td>1.0</td>\n",
       "      <td>1.00</td>\n",
       "      <td>1.0</td>\n",
       "      <td>1.00</td>\n",
       "      <td>1.0</td>\n",
       "    </tr>\n",
       "    <tr>\n",
       "      <th>86</th>\n",
       "      <td>1.0</td>\n",
       "      <td>0.000000</td>\n",
       "      <td>NaN</td>\n",
       "      <td>0.0</td>\n",
       "      <td>0.00</td>\n",
       "      <td>0.0</td>\n",
       "      <td>0.00</td>\n",
       "      <td>0.0</td>\n",
       "    </tr>\n",
       "  </tbody>\n",
       "</table>\n",
       "<p>75 rows × 8 columns</p>\n",
       "</div>"
      ],
      "text/plain": [
       "    fatal                                               \n",
       "    count      mean       std  min   25%  50%   75%  max\n",
       "age                                                     \n",
       "3     3.0  0.333333  0.577350  0.0  0.00  0.0  0.50  1.0\n",
       "5     6.0  0.166667  0.408248  0.0  0.00  0.0  0.00  1.0\n",
       "6    13.0  0.076923  0.277350  0.0  0.00  0.0  0.00  1.0\n",
       "7    18.0  0.166667  0.383482  0.0  0.00  0.0  0.00  1.0\n",
       "8    17.0  0.117647  0.332106  0.0  0.00  0.0  0.00  1.0\n",
       "..    ...       ...       ...  ...   ...  ...   ...  ...\n",
       "75    1.0  1.000000       NaN  1.0  1.00  1.0  1.00  1.0\n",
       "77    2.0  0.500000  0.707107  0.0  0.25  0.5  0.75  1.0\n",
       "82    1.0  0.000000       NaN  0.0  0.00  0.0  0.00  0.0\n",
       "84    1.0  1.000000       NaN  1.0  1.00  1.0  1.00  1.0\n",
       "86    1.0  0.000000       NaN  0.0  0.00  0.0  0.00  0.0\n",
       "\n",
       "[75 rows x 8 columns]"
      ]
     },
     "execution_count": 54,
     "metadata": {},
     "output_type": "execute_result"
    }
   ],
   "source": [
    "df3.groupby('age').describe()"
   ]
  },
  {
   "cell_type": "code",
   "execution_count": 55,
   "id": "4c1bef27-628e-4ca8-a7fd-e145c48c67c1",
   "metadata": {},
   "outputs": [],
   "source": [
    "# t test for ages v fatal\n",
    "# Null - There is no significat difference between the number of fatalities of ages over 20 vs under 20\n",
    "# alt - There is a difference bweteen the age groups"
   ]
  },
  {
   "cell_type": "code",
   "execution_count": 56,
   "id": "05ed235b-1458-4d01-8342-67a72436e9b5",
   "metadata": {},
   "outputs": [],
   "source": [
    "under_20 = df3.loc[df3['age'] <= 20, 'fatal']\n",
    "over_20 = df3.loc[df3['age'] > 20, 'fatal']\n"
   ]
  },
  {
   "cell_type": "code",
   "execution_count": 57,
   "id": "cb74a62d-26bf-457f-87b3-af3392d7b4d0",
   "metadata": {},
   "outputs": [
    {
     "data": {
      "text/plain": [
       "count    898.000000\n",
       "mean       0.139198\n",
       "std        0.346346\n",
       "min        0.000000\n",
       "25%        0.000000\n",
       "50%        0.000000\n",
       "75%        0.000000\n",
       "max        1.000000\n",
       "Name: fatal, dtype: float64"
      ]
     },
     "execution_count": 57,
     "metadata": {},
     "output_type": "execute_result"
    }
   ],
   "source": [
    "under_20.describe()"
   ]
  },
  {
   "cell_type": "code",
   "execution_count": 58,
   "id": "5a1fb125-9a50-4d42-810e-9b2e0e6d88f7",
   "metadata": {},
   "outputs": [
    {
     "data": {
      "text/plain": [
       "count    1466.000000\n",
       "mean        0.155525\n",
       "std         0.362528\n",
       "min         0.000000\n",
       "25%         0.000000\n",
       "50%         0.000000\n",
       "75%         0.000000\n",
       "max         1.000000\n",
       "Name: fatal, dtype: float64"
      ]
     },
     "execution_count": 58,
     "metadata": {},
     "output_type": "execute_result"
    }
   ],
   "source": [
    "over_20.describe()"
   ]
  },
  {
   "cell_type": "code",
   "execution_count": 59,
   "id": "16903cef-f5f0-4f56-92f3-dfd445a3eb4d",
   "metadata": {},
   "outputs": [
    {
     "data": {
      "text/plain": [
       "TtestResult(statistic=1.092772729914365, pvalue=0.27462765054602994, df=1963.521011148307)"
      ]
     },
     "execution_count": 59,
     "metadata": {},
     "output_type": "execute_result"
    }
   ],
   "source": [
    "stats.ttest_ind(over_20, under_20, equal_var = False)"
   ]
  },
  {
   "cell_type": "code",
   "execution_count": 60,
   "id": "7ead4599-b1f5-4648-b131-50cbddf79515",
   "metadata": {},
   "outputs": [],
   "source": [
    "# with the low pvalue - accept the null hypothesis \n",
    "# There is no significat difference between the number of fatalities of ages over 20 vs under 20"
   ]
  },
  {
   "cell_type": "code",
   "execution_count": null,
   "id": "f08caa63-65e8-4e99-8398-4786798d982f",
   "metadata": {},
   "outputs": [],
   "source": []
  },
  {
   "cell_type": "code",
   "execution_count": null,
   "id": "9aac1220-75f8-4aa5-baa0-52e16d36979f",
   "metadata": {},
   "outputs": [],
   "source": []
  },
  {
   "cell_type": "code",
   "execution_count": 61,
   "id": "d1032951-2d40-403e-bcba-dc31a153ff3b",
   "metadata": {},
   "outputs": [
    {
     "data": {
      "text/html": [
       "<div>\n",
       "<style scoped>\n",
       "    .dataframe tbody tr th:only-of-type {\n",
       "        vertical-align: middle;\n",
       "    }\n",
       "\n",
       "    .dataframe tbody tr th {\n",
       "        vertical-align: top;\n",
       "    }\n",
       "\n",
       "    .dataframe thead th {\n",
       "        text-align: right;\n",
       "    }\n",
       "</style>\n",
       "<table border=\"1\" class=\"dataframe\">\n",
       "  <thead>\n",
       "    <tr style=\"text-align: right;\">\n",
       "      <th></th>\n",
       "      <th>age</th>\n",
       "    </tr>\n",
       "    <tr>\n",
       "      <th>fatal</th>\n",
       "      <th></th>\n",
       "    </tr>\n",
       "  </thead>\n",
       "  <tbody>\n",
       "    <tr>\n",
       "      <th>0</th>\n",
       "      <td>28.003481</td>\n",
       "    </tr>\n",
       "    <tr>\n",
       "      <th>1</th>\n",
       "      <td>28.988669</td>\n",
       "    </tr>\n",
       "  </tbody>\n",
       "</table>\n",
       "</div>"
      ],
      "text/plain": [
       "             age\n",
       "fatal           \n",
       "0      28.003481\n",
       "1      28.988669"
      ]
     },
     "execution_count": 61,
     "metadata": {},
     "output_type": "execute_result"
    }
   ],
   "source": [
    "df3.groupby(\"fatal\").mean()"
   ]
  },
  {
   "cell_type": "code",
   "execution_count": 62,
   "id": "0d30c135-d8d6-479b-8a17-8d615401909a",
   "metadata": {},
   "outputs": [
    {
     "data": {
      "text/html": [
       "<div>\n",
       "<style scoped>\n",
       "    .dataframe tbody tr th:only-of-type {\n",
       "        vertical-align: middle;\n",
       "    }\n",
       "\n",
       "    .dataframe tbody tr th {\n",
       "        vertical-align: top;\n",
       "    }\n",
       "\n",
       "    .dataframe thead th {\n",
       "        text-align: right;\n",
       "    }\n",
       "</style>\n",
       "<table border=\"1\" class=\"dataframe\">\n",
       "  <thead>\n",
       "    <tr style=\"text-align: right;\">\n",
       "      <th></th>\n",
       "      <th>age</th>\n",
       "      <th>fatal</th>\n",
       "    </tr>\n",
       "  </thead>\n",
       "  <tbody>\n",
       "    <tr>\n",
       "      <th>age</th>\n",
       "      <td>1.000000</td>\n",
       "      <td>0.024395</td>\n",
       "    </tr>\n",
       "    <tr>\n",
       "      <th>fatal</th>\n",
       "      <td>0.024395</td>\n",
       "      <td>1.000000</td>\n",
       "    </tr>\n",
       "  </tbody>\n",
       "</table>\n",
       "</div>"
      ],
      "text/plain": [
       "            age     fatal\n",
       "age    1.000000  0.024395\n",
       "fatal  0.024395  1.000000"
      ]
     },
     "execution_count": 62,
     "metadata": {},
     "output_type": "execute_result"
    }
   ],
   "source": [
    "df3.corr()"
   ]
  },
  {
   "cell_type": "code",
   "execution_count": 63,
   "id": "d2ba86c6-c91b-4e44-b99e-d417033229cd",
   "metadata": {},
   "outputs": [
    {
     "data": {
      "image/png": "[encoded data removed]",
      "text/plain": [
       "<Figure size 640x480 with 1 Axes>"
      ]
     },
     "metadata": {},
     "output_type": "display_data"
    }
   ],
   "source": [
    "plt.scatter(df3.age, df3.fatal)\n",
    "plt.show()"
   ]
  },
  {
   "cell_type": "code",
   "execution_count": 64,
   "id": "dc6aa597-1b12-4267-badb-afac7a67e8a4",
   "metadata": {},
   "outputs": [
    {
     "name": "stdout",
     "output_type": "stream",
     "text": [
      "<class 'pandas.core.frame.DataFrame'>\n",
      "Index: 2525 entries, 0 to 6301\n",
      "Data columns (total 14 columns):\n",
      " #   Column    Non-Null Count  Dtype         \n",
      "---  ------    --------------  -----         \n",
      " 0   date      2466 non-null   datetime64[ns]\n",
      " 1   year      2466 non-null   float64       \n",
      " 2   type      2524 non-null   object        \n",
      " 3   country   2520 non-null   object        \n",
      " 4   area      2454 non-null   object        \n",
      " 5   location  2431 non-null   object        \n",
      " 6   activity  2525 non-null   object        \n",
      " 7   sex       2510 non-null   object        \n",
      " 8   age       2525 non-null   int64         \n",
      " 9   injury    2525 non-null   object        \n",
      " 10  fatal     2364 non-null   object        \n",
      " 11  time      1792 non-null   object        \n",
      " 12  species   2525 non-null   object        \n",
      " 13  month     2466 non-null   float64       \n",
      "dtypes: datetime64[ns](1), float64(2), int64(1), object(10)\n",
      "memory usage: 295.9+ KB\n"
     ]
    }
   ],
   "source": [
    "df2.info()"
   ]
  },
  {
   "cell_type": "code",
   "execution_count": 65,
   "id": "df0d1c1d-54e9-44af-852d-85777cb14124",
   "metadata": {},
   "outputs": [
    {
     "data": {
      "text/plain": [
       "array(['57', '11', '48', nan, '18', '52', '15', '12', '32', '10', '21',\n",
       "       '34', '30', '60', '33', '29', '54', '41', '37', '56', '19', '25',\n",
       "       '69', '38', '55', '35', '46', '45', '14', '40s', '28', '20', '24',\n",
       "       '26', '49', '22', '7', '31', '17', '40', '13', '42', '3', '8',\n",
       "       '50', '16', '82', '73', '20s', '68', '51', '39', '58', 'Teen',\n",
       "       '47', '61', '65', '36', '66', '43', '60s', '9', '72', '59', '6',\n",
       "       '27', '64', '23', '71', '44', '62', '63', '70', '18 months', '53',\n",
       "       '30s', '50s', 'teen', '77', '74', '28 & 26', '5', '86', '18 or 20',\n",
       "       '12 or 13', '46 & 34', '28, 23 & 30', 'Teens', '36 & 26',\n",
       "       '8 or 10', '84', '\\xa0 ', ' ', '30 or 36', '6½', '21 & ?', '75',\n",
       "       '33 or 37', 'mid-30s', '23 & 20', '7      &    31', '20?', \"60's\",\n",
       "       '32 & 30', '16 to 18', '87', '67', 'Elderly', 'mid-20s', 'Ca. 33',\n",
       "       '21 or 26', '9 months', '25 to 35', '33 & 37', '34 & 19',\n",
       "       '2 to 3 months', '7 or 8', '10 or 12', '31 or 33', '2½', 'young',\n",
       "       '13 or 14'], dtype=object)"
      ]
     },
     "execution_count": 65,
     "metadata": {},
     "output_type": "execute_result"
    }
   ],
   "source": [
    "df.age.unique()"
   ]
  },
  {
   "cell_type": "code",
   "execution_count": 66,
   "id": "2ee29a53-5e05-44a8-804c-5b2f6c0779c9",
   "metadata": {},
   "outputs": [
    {
     "name": "stdout",
     "output_type": "stream",
     "text": [
      "<class 'pandas.core.frame.DataFrame'>\n",
      "Index: 24173 entries, 0 to 25722\n",
      "Data columns (total 14 columns):\n",
      " #   Column    Non-Null Count  Dtype         \n",
      "---  ------    --------------  -----         \n",
      " 0   date      4377 non-null   datetime64[ns]\n",
      " 1   year      4377 non-null   float64       \n",
      " 2   type      4748 non-null   object        \n",
      " 3   country   4717 non-null   object        \n",
      " 4   area      4404 non-null   object        \n",
      " 5   location  4338 non-null   object        \n",
      " 6   activity  24173 non-null  object        \n",
      " 7   sex       4384 non-null   object        \n",
      " 8   age       2599 non-null   object        \n",
      " 9   injury    24173 non-null  object        \n",
      " 10  fatal     4353 non-null   object        \n",
      " 11  time      2286 non-null   object        \n",
      " 12  species   24173 non-null  object        \n",
      " 13  month     4377 non-null   float64       \n",
      "dtypes: datetime64[ns](1), float64(2), object(11)\n",
      "memory usage: 3.3+ MB\n"
     ]
    }
   ],
   "source": [
    "df.info()"
   ]
  },
  {
   "cell_type": "code",
   "execution_count": 67,
   "id": "bf0d6d35-6028-4b86-8017-823344caa6b0",
   "metadata": {},
   "outputs": [
    {
     "data": {
      "text/html": [
       "<div>\n",
       "<style scoped>\n",
       "    .dataframe tbody tr th:only-of-type {\n",
       "        vertical-align: middle;\n",
       "    }\n",
       "\n",
       "    .dataframe tbody tr th {\n",
       "        vertical-align: top;\n",
       "    }\n",
       "\n",
       "    .dataframe thead th {\n",
       "        text-align: right;\n",
       "    }\n",
       "</style>\n",
       "<table border=\"1\" class=\"dataframe\">\n",
       "  <thead>\n",
       "    <tr style=\"text-align: right;\">\n",
       "      <th></th>\n",
       "      <th>date</th>\n",
       "      <th>year</th>\n",
       "      <th>type</th>\n",
       "      <th>country</th>\n",
       "      <th>area</th>\n",
       "      <th>location</th>\n",
       "      <th>activity</th>\n",
       "      <th>sex</th>\n",
       "      <th>age</th>\n",
       "      <th>injury</th>\n",
       "      <th>fatal</th>\n",
       "      <th>time</th>\n",
       "      <th>species</th>\n",
       "      <th>month</th>\n",
       "    </tr>\n",
       "  </thead>\n",
       "  <tbody>\n",
       "    <tr>\n",
       "      <th>0</th>\n",
       "      <td>2018-06-25</td>\n",
       "      <td>2018.0</td>\n",
       "      <td>Boating</td>\n",
       "      <td>USA</td>\n",
       "      <td>California</td>\n",
       "      <td>Oceanside, San Diego County</td>\n",
       "      <td>Paddling</td>\n",
       "      <td>F</td>\n",
       "      <td>57</td>\n",
       "      <td>No Injury</td>\n",
       "      <td>N</td>\n",
       "      <td>18h00</td>\n",
       "      <td>Great White Shark</td>\n",
       "      <td>6.0</td>\n",
       "    </tr>\n",
       "    <tr>\n",
       "      <th>1</th>\n",
       "      <td>2018-06-18</td>\n",
       "      <td>2018.0</td>\n",
       "      <td>Unprovoked</td>\n",
       "      <td>USA</td>\n",
       "      <td>Georgia</td>\n",
       "      <td>St. Simon Island, Glynn County</td>\n",
       "      <td>In Shallow Water</td>\n",
       "      <td>F</td>\n",
       "      <td>11</td>\n",
       "      <td>Thigh</td>\n",
       "      <td>N</td>\n",
       "      <td>14h00  -15h00</td>\n",
       "      <td>Not Recorded</td>\n",
       "      <td>6.0</td>\n",
       "    </tr>\n",
       "    <tr>\n",
       "      <th>2</th>\n",
       "      <td>2018-06-09</td>\n",
       "      <td>2018.0</td>\n",
       "      <td>Not Recorded</td>\n",
       "      <td>USA</td>\n",
       "      <td>Hawaii</td>\n",
       "      <td>Habush, Oahu</td>\n",
       "      <td>Surfing</td>\n",
       "      <td>M</td>\n",
       "      <td>48</td>\n",
       "      <td>Leg</td>\n",
       "      <td>N</td>\n",
       "      <td>07h45</td>\n",
       "      <td>Not Recorded</td>\n",
       "      <td>6.0</td>\n",
       "    </tr>\n",
       "    <tr>\n",
       "      <th>3</th>\n",
       "      <td>2018-06-08</td>\n",
       "      <td>2018.0</td>\n",
       "      <td>Unprovoked</td>\n",
       "      <td>AUSTRALIA</td>\n",
       "      <td>New South Wales</td>\n",
       "      <td>Arrawarra Headland</td>\n",
       "      <td>Surfing</td>\n",
       "      <td>M</td>\n",
       "      <td>NaN</td>\n",
       "      <td>Leg</td>\n",
       "      <td>N</td>\n",
       "      <td>NaN</td>\n",
       "      <td>Not Recorded</td>\n",
       "      <td>6.0</td>\n",
       "    </tr>\n",
       "    <tr>\n",
       "      <th>4</th>\n",
       "      <td>2018-06-04</td>\n",
       "      <td>2018.0</td>\n",
       "      <td>Provoked</td>\n",
       "      <td>MEXICO</td>\n",
       "      <td>Colima</td>\n",
       "      <td>La Ticla</td>\n",
       "      <td>Diving</td>\n",
       "      <td>M</td>\n",
       "      <td>NaN</td>\n",
       "      <td>Leg</td>\n",
       "      <td>N</td>\n",
       "      <td>NaN</td>\n",
       "      <td>Tiger Shark</td>\n",
       "      <td>6.0</td>\n",
       "    </tr>\n",
       "    <tr>\n",
       "      <th>5</th>\n",
       "      <td>2018-06-03</td>\n",
       "      <td>2018.0</td>\n",
       "      <td>Unprovoked</td>\n",
       "      <td>AUSTRALIA</td>\n",
       "      <td>New South Wales</td>\n",
       "      <td>Flat Rock, Ballina</td>\n",
       "      <td>Surfing</td>\n",
       "      <td>M</td>\n",
       "      <td>NaN</td>\n",
       "      <td>No Injury</td>\n",
       "      <td>N</td>\n",
       "      <td>NaN</td>\n",
       "      <td>Not Recorded</td>\n",
       "      <td>6.0</td>\n",
       "    </tr>\n",
       "    <tr>\n",
       "      <th>6</th>\n",
       "      <td>2018-06-03</td>\n",
       "      <td>2018.0</td>\n",
       "      <td>Unprovoked</td>\n",
       "      <td>BRAZIL</td>\n",
       "      <td>Pernambuco</td>\n",
       "      <td>Piedade Beach, Recife</td>\n",
       "      <td>Swimming</td>\n",
       "      <td>M</td>\n",
       "      <td>18</td>\n",
       "      <td>Fatal</td>\n",
       "      <td>Y</td>\n",
       "      <td>Late afternoon</td>\n",
       "      <td>Tiger Shark</td>\n",
       "      <td>6.0</td>\n",
       "    </tr>\n",
       "    <tr>\n",
       "      <th>7</th>\n",
       "      <td>2018-05-27</td>\n",
       "      <td>2018.0</td>\n",
       "      <td>Unprovoked</td>\n",
       "      <td>USA</td>\n",
       "      <td>Florida</td>\n",
       "      <td>Lighhouse Point Park, Ponce Inlet, Volusia County</td>\n",
       "      <td>Fishing</td>\n",
       "      <td>M</td>\n",
       "      <td>52</td>\n",
       "      <td>Foot</td>\n",
       "      <td>N</td>\n",
       "      <td>NaN</td>\n",
       "      <td>Lemon Shark</td>\n",
       "      <td>5.0</td>\n",
       "    </tr>\n",
       "    <tr>\n",
       "      <th>8</th>\n",
       "      <td>2018-05-26</td>\n",
       "      <td>2018.0</td>\n",
       "      <td>Unprovoked</td>\n",
       "      <td>USA</td>\n",
       "      <td>Florida</td>\n",
       "      <td>Cocoa Beach, Brevard  County</td>\n",
       "      <td>Walking</td>\n",
       "      <td>M</td>\n",
       "      <td>15</td>\n",
       "      <td>Leg</td>\n",
       "      <td>N</td>\n",
       "      <td>17h00</td>\n",
       "      <td>Bull Shark</td>\n",
       "      <td>5.0</td>\n",
       "    </tr>\n",
       "    <tr>\n",
       "      <th>9</th>\n",
       "      <td>2018-05-26</td>\n",
       "      <td>2018.0</td>\n",
       "      <td>Unprovoked</td>\n",
       "      <td>USA</td>\n",
       "      <td>Florida</td>\n",
       "      <td>Daytona Beach, Volusia County</td>\n",
       "      <td>In Shallow Water</td>\n",
       "      <td>M</td>\n",
       "      <td>12</td>\n",
       "      <td>Foot</td>\n",
       "      <td>N</td>\n",
       "      <td>14h00</td>\n",
       "      <td>Not Recorded</td>\n",
       "      <td>5.0</td>\n",
       "    </tr>\n",
       "    <tr>\n",
       "      <th>10</th>\n",
       "      <td>2018-05-24</td>\n",
       "      <td>2018.0</td>\n",
       "      <td>Provoked</td>\n",
       "      <td>AUSTRALIA</td>\n",
       "      <td>Queensland</td>\n",
       "      <td>Cairns Aquarium</td>\n",
       "      <td>Handling a Shark</td>\n",
       "      <td>M</td>\n",
       "      <td>32</td>\n",
       "      <td>Hand</td>\n",
       "      <td>N</td>\n",
       "      <td>Morning</td>\n",
       "      <td>Reef Shark</td>\n",
       "      <td>5.0</td>\n",
       "    </tr>\n",
       "    <tr>\n",
       "      <th>11</th>\n",
       "      <td>2018-05-21</td>\n",
       "      <td>2018.0</td>\n",
       "      <td>Unprovoked</td>\n",
       "      <td>USA</td>\n",
       "      <td>South Carolina</td>\n",
       "      <td>Isle of Palms,  Charleston County</td>\n",
       "      <td>Surfing</td>\n",
       "      <td>M</td>\n",
       "      <td>10</td>\n",
       "      <td>Leg</td>\n",
       "      <td>N</td>\n",
       "      <td>NaN</td>\n",
       "      <td>Not Recorded</td>\n",
       "      <td>5.0</td>\n",
       "    </tr>\n",
       "    <tr>\n",
       "      <th>12</th>\n",
       "      <td>2018-05-13</td>\n",
       "      <td>2018.0</td>\n",
       "      <td>Unprovoked</td>\n",
       "      <td>USA</td>\n",
       "      <td>South Carolina</td>\n",
       "      <td>Hilton Head Island, Beaufort County</td>\n",
       "      <td>Swimming</td>\n",
       "      <td>M</td>\n",
       "      <td>10</td>\n",
       "      <td>Arm</td>\n",
       "      <td>N</td>\n",
       "      <td>15h00</td>\n",
       "      <td>Not Recorded</td>\n",
       "      <td>5.0</td>\n",
       "    </tr>\n",
       "    <tr>\n",
       "      <th>13</th>\n",
       "      <td>2018-05-13</td>\n",
       "      <td>2018.0</td>\n",
       "      <td>Not Recorded</td>\n",
       "      <td>ENGLAND</td>\n",
       "      <td>Cornwall</td>\n",
       "      <td>Off Land's End</td>\n",
       "      <td>Fishing</td>\n",
       "      <td>M</td>\n",
       "      <td>21</td>\n",
       "      <td>Other</td>\n",
       "      <td>N</td>\n",
       "      <td>08h15</td>\n",
       "      <td>Unknown</td>\n",
       "      <td>5.0</td>\n",
       "    </tr>\n",
       "    <tr>\n",
       "      <th>14</th>\n",
       "      <td>NaT</td>\n",
       "      <td>NaN</td>\n",
       "      <td>Provoked</td>\n",
       "      <td>AUSTRALIA</td>\n",
       "      <td>Westerm Australia</td>\n",
       "      <td>Dugong Bay</td>\n",
       "      <td>Handling a Shark</td>\n",
       "      <td>F</td>\n",
       "      <td>34</td>\n",
       "      <td>Hand</td>\n",
       "      <td>N</td>\n",
       "      <td>NaN</td>\n",
       "      <td>Nurse Shark</td>\n",
       "      <td>NaN</td>\n",
       "    </tr>\n",
       "    <tr>\n",
       "      <th>15</th>\n",
       "      <td>2018-05-12</td>\n",
       "      <td>2018.0</td>\n",
       "      <td>Unprovoked</td>\n",
       "      <td>SOUTH AFRICA</td>\n",
       "      <td>Eastern Cape Province</td>\n",
       "      <td>Nahoon Beach, East London</td>\n",
       "      <td>Surfing</td>\n",
       "      <td>M</td>\n",
       "      <td>NaN</td>\n",
       "      <td>Other</td>\n",
       "      <td>N</td>\n",
       "      <td>11h00</td>\n",
       "      <td>Not Recorded</td>\n",
       "      <td>5.0</td>\n",
       "    </tr>\n",
       "    <tr>\n",
       "      <th>16</th>\n",
       "      <td>2018-05-09</td>\n",
       "      <td>2018.0</td>\n",
       "      <td>Not Recorded</td>\n",
       "      <td>AUSTRALIA</td>\n",
       "      <td>New South Wales</td>\n",
       "      <td>Sharpes Beach, Ballina</td>\n",
       "      <td>Surfing</td>\n",
       "      <td>M</td>\n",
       "      <td>NaN</td>\n",
       "      <td>No Injury</td>\n",
       "      <td>N</td>\n",
       "      <td>10h30</td>\n",
       "      <td>Unknown</td>\n",
       "      <td>5.0</td>\n",
       "    </tr>\n",
       "    <tr>\n",
       "      <th>17</th>\n",
       "      <td>2018-04-30</td>\n",
       "      <td>2018.0</td>\n",
       "      <td>Unprovoked</td>\n",
       "      <td>THAILAND</td>\n",
       "      <td>Hua Hin</td>\n",
       "      <td>Sai Noi Beach</td>\n",
       "      <td>Swimming</td>\n",
       "      <td>M</td>\n",
       "      <td>NaN</td>\n",
       "      <td>Ankle</td>\n",
       "      <td>N</td>\n",
       "      <td>NaN</td>\n",
       "      <td>Not Recorded</td>\n",
       "      <td>4.0</td>\n",
       "    </tr>\n",
       "    <tr>\n",
       "      <th>18</th>\n",
       "      <td>2018-04-28</td>\n",
       "      <td>2018.0</td>\n",
       "      <td>Unprovoked</td>\n",
       "      <td>COSTA RICA</td>\n",
       "      <td>Cocos Island</td>\n",
       "      <td>Manuelita</td>\n",
       "      <td>Diving</td>\n",
       "      <td>M</td>\n",
       "      <td>30</td>\n",
       "      <td>No Injury</td>\n",
       "      <td>N</td>\n",
       "      <td>10h40</td>\n",
       "      <td>Tiger Shark</td>\n",
       "      <td>4.0</td>\n",
       "    </tr>\n",
       "    <tr>\n",
       "      <th>19</th>\n",
       "      <td>2018-04-28</td>\n",
       "      <td>2018.0</td>\n",
       "      <td>Unprovoked</td>\n",
       "      <td>AUSTRALIA</td>\n",
       "      <td>Western Australia</td>\n",
       "      <td>Gearys Beach</td>\n",
       "      <td>Surfing</td>\n",
       "      <td>M</td>\n",
       "      <td>NaN</td>\n",
       "      <td>No Injury</td>\n",
       "      <td>N</td>\n",
       "      <td>16h50</td>\n",
       "      <td>Not Recorded</td>\n",
       "      <td>4.0</td>\n",
       "    </tr>\n",
       "  </tbody>\n",
       "</table>\n",
       "</div>"
      ],
      "text/plain": [
       "         date    year          type       country                   area  \\\n",
       "0  2018-06-25  2018.0       Boating           USA             California   \n",
       "1  2018-06-18  2018.0    Unprovoked           USA                Georgia   \n",
       "2  2018-06-09  2018.0  Not Recorded           USA                 Hawaii   \n",
       "3  2018-06-08  2018.0    Unprovoked     AUSTRALIA        New South Wales   \n",
       "4  2018-06-04  2018.0      Provoked        MEXICO                 Colima   \n",
       "5  2018-06-03  2018.0    Unprovoked     AUSTRALIA        New South Wales   \n",
       "6  2018-06-03  2018.0    Unprovoked        BRAZIL             Pernambuco   \n",
       "7  2018-05-27  2018.0    Unprovoked           USA                Florida   \n",
       "8  2018-05-26  2018.0    Unprovoked           USA                Florida   \n",
       "9  2018-05-26  2018.0    Unprovoked           USA                Florida   \n",
       "10 2018-05-24  2018.0      Provoked     AUSTRALIA             Queensland   \n",
       "11 2018-05-21  2018.0    Unprovoked           USA         South Carolina   \n",
       "12 2018-05-13  2018.0    Unprovoked           USA         South Carolina   \n",
       "13 2018-05-13  2018.0  Not Recorded       ENGLAND               Cornwall   \n",
       "14        NaT     NaN      Provoked     AUSTRALIA      Westerm Australia   \n",
       "15 2018-05-12  2018.0    Unprovoked  SOUTH AFRICA  Eastern Cape Province   \n",
       "16 2018-05-09  2018.0  Not Recorded     AUSTRALIA        New South Wales   \n",
       "17 2018-04-30  2018.0    Unprovoked      THAILAND                Hua Hin   \n",
       "18 2018-04-28  2018.0    Unprovoked    COSTA RICA           Cocos Island   \n",
       "19 2018-04-28  2018.0    Unprovoked     AUSTRALIA      Western Australia   \n",
       "\n",
       "                                             location          activity sex  \\\n",
       "0                         Oceanside, San Diego County          Paddling   F   \n",
       "1                      St. Simon Island, Glynn County  In Shallow Water   F   \n",
       "2                                        Habush, Oahu           Surfing   M   \n",
       "3                                  Arrawarra Headland           Surfing   M   \n",
       "4                                            La Ticla            Diving   M   \n",
       "5                                  Flat Rock, Ballina           Surfing   M   \n",
       "6                               Piedade Beach, Recife          Swimming   M   \n",
       "7   Lighhouse Point Park, Ponce Inlet, Volusia County           Fishing   M   \n",
       "8                        Cocoa Beach, Brevard  County           Walking   M   \n",
       "9                       Daytona Beach, Volusia County  In Shallow Water   M   \n",
       "10                                    Cairns Aquarium  Handling a Shark   M   \n",
       "11                  Isle of Palms,  Charleston County           Surfing   M   \n",
       "12                Hilton Head Island, Beaufort County          Swimming   M   \n",
       "13                                     Off Land's End           Fishing   M   \n",
       "14                                         Dugong Bay  Handling a Shark   F   \n",
       "15                          Nahoon Beach, East London           Surfing   M   \n",
       "16                             Sharpes Beach, Ballina           Surfing   M   \n",
       "17                                      Sai Noi Beach          Swimming   M   \n",
       "18                                          Manuelita            Diving   M   \n",
       "19                                       Gearys Beach           Surfing   M   \n",
       "\n",
       "    age     injury fatal            time            species  month  \n",
       "0    57  No Injury     N           18h00  Great White Shark    6.0  \n",
       "1    11      Thigh     N   14h00  -15h00       Not Recorded    6.0  \n",
       "2    48        Leg     N           07h45       Not Recorded    6.0  \n",
       "3   NaN        Leg     N             NaN       Not Recorded    6.0  \n",
       "4   NaN        Leg     N             NaN        Tiger Shark    6.0  \n",
       "5   NaN  No Injury     N             NaN       Not Recorded    6.0  \n",
       "6    18      Fatal     Y  Late afternoon        Tiger Shark    6.0  \n",
       "7    52       Foot     N             NaN        Lemon Shark    5.0  \n",
       "8    15        Leg     N           17h00         Bull Shark    5.0  \n",
       "9    12       Foot     N           14h00       Not Recorded    5.0  \n",
       "10   32       Hand     N         Morning         Reef Shark    5.0  \n",
       "11   10        Leg     N             NaN       Not Recorded    5.0  \n",
       "12   10        Arm     N           15h00       Not Recorded    5.0  \n",
       "13   21      Other     N           08h15            Unknown    5.0  \n",
       "14   34       Hand     N             NaN        Nurse Shark    NaN  \n",
       "15  NaN      Other     N           11h00       Not Recorded    5.0  \n",
       "16  NaN  No Injury     N           10h30            Unknown    5.0  \n",
       "17  NaN      Ankle     N             NaN       Not Recorded    4.0  \n",
       "18   30  No Injury     N           10h40        Tiger Shark    4.0  \n",
       "19  NaN  No Injury     N           16h50       Not Recorded    4.0  "
      ]
     },
     "execution_count": 67,
     "metadata": {},
     "output_type": "execute_result"
    }
   ],
   "source": [
    "df.head(20)"
   ]
  },
  {
   "cell_type": "code",
   "execution_count": 68,
   "id": "17fa845f-ff36-4005-95da-ef183c1aba46",
   "metadata": {},
   "outputs": [
    {
     "name": "stderr",
     "output_type": "stream",
     "text": [
      "C:\\Users\\Kelsey\\AppData\\Local\\Temp\\ipykernel_7280\\1291431993.py:12: SettingWithCopyWarning: \n",
      "A value is trying to be set on a copy of a slice from a DataFrame.\n",
      "Try using .loc[row_indexer,col_indexer] = value instead\n",
      "\n",
      "See the caveats in the documentation: https://pandas.pydata.org/pandas-docs/stable/user_guide/indexing.html#returning-a-view-versus-a-copy\n",
      "  gender_fatal['fatal'] = gender_fatal.fatal.apply(lambda x: 1 if x == \"Y\" else 0)\n"
     ]
    },
    {
     "data": {
      "text/html": [
       "<div>\n",
       "<style scoped>\n",
       "    .dataframe tbody tr th:only-of-type {\n",
       "        vertical-align: middle;\n",
       "    }\n",
       "\n",
       "    .dataframe tbody tr th {\n",
       "        vertical-align: top;\n",
       "    }\n",
       "\n",
       "    .dataframe thead th {\n",
       "        text-align: right;\n",
       "    }\n",
       "</style>\n",
       "<table border=\"1\" class=\"dataframe\">\n",
       "  <thead>\n",
       "    <tr style=\"text-align: right;\">\n",
       "      <th></th>\n",
       "      <th>sex</th>\n",
       "      <th>fatal</th>\n",
       "    </tr>\n",
       "  </thead>\n",
       "  <tbody>\n",
       "    <tr>\n",
       "      <th>0</th>\n",
       "      <td>F</td>\n",
       "      <td>0</td>\n",
       "    </tr>\n",
       "    <tr>\n",
       "      <th>1</th>\n",
       "      <td>F</td>\n",
       "      <td>0</td>\n",
       "    </tr>\n",
       "    <tr>\n",
       "      <th>2</th>\n",
       "      <td>M</td>\n",
       "      <td>0</td>\n",
       "    </tr>\n",
       "    <tr>\n",
       "      <th>3</th>\n",
       "      <td>M</td>\n",
       "      <td>0</td>\n",
       "    </tr>\n",
       "    <tr>\n",
       "      <th>4</th>\n",
       "      <td>M</td>\n",
       "      <td>0</td>\n",
       "    </tr>\n",
       "    <tr>\n",
       "      <th>5</th>\n",
       "      <td>M</td>\n",
       "      <td>0</td>\n",
       "    </tr>\n",
       "    <tr>\n",
       "      <th>6</th>\n",
       "      <td>M</td>\n",
       "      <td>1</td>\n",
       "    </tr>\n",
       "    <tr>\n",
       "      <th>7</th>\n",
       "      <td>M</td>\n",
       "      <td>0</td>\n",
       "    </tr>\n",
       "    <tr>\n",
       "      <th>8</th>\n",
       "      <td>M</td>\n",
       "      <td>0</td>\n",
       "    </tr>\n",
       "    <tr>\n",
       "      <th>9</th>\n",
       "      <td>M</td>\n",
       "      <td>0</td>\n",
       "    </tr>\n",
       "  </tbody>\n",
       "</table>\n",
       "</div>"
      ],
      "text/plain": [
       "  sex  fatal\n",
       "0   F      0\n",
       "1   F      0\n",
       "2   M      0\n",
       "3   M      0\n",
       "4   M      0\n",
       "5   M      0\n",
       "6   M      1\n",
       "7   M      0\n",
       "8   M      0\n",
       "9   M      0"
      ]
     },
     "execution_count": 68,
     "metadata": {},
     "output_type": "execute_result"
    }
   ],
   "source": [
    "# try out a t test to see if gender makes a difference on fatality of attacks\n",
    "\n",
    "# hypothesis: \n",
    "# null - there is no difference in fatal liklyhood in attacks between women and men\n",
    "# alt - there is a difference between fatal probabilty between women and men\n",
    "\n",
    "# get a data for fatal attacks and age\n",
    "# df4 = df[df[\"fatal\"] == \"Y\"] \n",
    "df4 = df.dropna(subset=['sex'])\n",
    "df4 = df4[df4['sex'] != \"NaN\"]\n",
    "gender_fatal = df4[['sex', 'fatal']]\n",
    "gender_fatal['fatal'] = gender_fatal.fatal.apply(lambda x: 1 if x == \"Y\" else 0)\n",
    "gender_fatal.head(10)"
   ]
  },
  {
   "cell_type": "code",
   "execution_count": 69,
   "id": "c7e6959b-5f24-4265-8411-76a2711e5df9",
   "metadata": {},
   "outputs": [
    {
     "name": "stdout",
     "output_type": "stream",
     "text": [
      "<class 'pandas.core.frame.DataFrame'>\n",
      "Index: 4384 entries, 0 to 6301\n",
      "Data columns (total 2 columns):\n",
      " #   Column  Non-Null Count  Dtype \n",
      "---  ------  --------------  ----- \n",
      " 0   sex     4384 non-null   object\n",
      " 1   fatal   4384 non-null   int64 \n",
      "dtypes: int64(1), object(1)\n",
      "memory usage: 102.8+ KB\n"
     ]
    }
   ],
   "source": [
    "gender_fatal.info()"
   ]
  },
  {
   "cell_type": "code",
   "execution_count": 70,
   "id": "4c2d80ce-2426-4ddb-9ee0-1c89ea9f5a4f",
   "metadata": {},
   "outputs": [
    {
     "data": {
      "text/html": [
       "<div>\n",
       "<style scoped>\n",
       "    .dataframe tbody tr th:only-of-type {\n",
       "        vertical-align: middle;\n",
       "    }\n",
       "\n",
       "    .dataframe tbody tr th {\n",
       "        vertical-align: top;\n",
       "    }\n",
       "\n",
       "    .dataframe thead tr th {\n",
       "        text-align: left;\n",
       "    }\n",
       "\n",
       "    .dataframe thead tr:last-of-type th {\n",
       "        text-align: right;\n",
       "    }\n",
       "</style>\n",
       "<table border=\"1\" class=\"dataframe\">\n",
       "  <thead>\n",
       "    <tr>\n",
       "      <th></th>\n",
       "      <th colspan=\"8\" halign=\"left\">fatal</th>\n",
       "    </tr>\n",
       "    <tr>\n",
       "      <th></th>\n",
       "      <th>count</th>\n",
       "      <th>mean</th>\n",
       "      <th>std</th>\n",
       "      <th>min</th>\n",
       "      <th>25%</th>\n",
       "      <th>50%</th>\n",
       "      <th>75%</th>\n",
       "      <th>max</th>\n",
       "    </tr>\n",
       "    <tr>\n",
       "      <th>sex</th>\n",
       "      <th></th>\n",
       "      <th></th>\n",
       "      <th></th>\n",
       "      <th></th>\n",
       "      <th></th>\n",
       "      <th></th>\n",
       "      <th></th>\n",
       "      <th></th>\n",
       "    </tr>\n",
       "  </thead>\n",
       "  <tbody>\n",
       "    <tr>\n",
       "      <th>F</th>\n",
       "      <td>558.0</td>\n",
       "      <td>0.136201</td>\n",
       "      <td>0.343309</td>\n",
       "      <td>0.0</td>\n",
       "      <td>0.0</td>\n",
       "      <td>0.0</td>\n",
       "      <td>0.0</td>\n",
       "      <td>1.0</td>\n",
       "    </tr>\n",
       "    <tr>\n",
       "      <th>M</th>\n",
       "      <td>3826.0</td>\n",
       "      <td>0.218244</td>\n",
       "      <td>0.413108</td>\n",
       "      <td>0.0</td>\n",
       "      <td>0.0</td>\n",
       "      <td>0.0</td>\n",
       "      <td>0.0</td>\n",
       "      <td>1.0</td>\n",
       "    </tr>\n",
       "  </tbody>\n",
       "</table>\n",
       "</div>"
      ],
      "text/plain": [
       "      fatal                                             \n",
       "      count      mean       std  min  25%  50%  75%  max\n",
       "sex                                                     \n",
       "F     558.0  0.136201  0.343309  0.0  0.0  0.0  0.0  1.0\n",
       "M    3826.0  0.218244  0.413108  0.0  0.0  0.0  0.0  1.0"
      ]
     },
     "execution_count": 70,
     "metadata": {},
     "output_type": "execute_result"
    }
   ],
   "source": [
    "gender_fatal.groupby('sex').describe()"
   ]
  },
  {
   "cell_type": "code",
   "execution_count": 74,
   "id": "0c597246-8777-49b7-b516-9b885ea959e0",
   "metadata": {},
   "outputs": [],
   "source": [
    "male_fatalities = gender_fatal.loc[df4.sex == \"M\", 'fatal']\n",
    "female_fatalities = gender_fatal.loc[df4.sex == \"F\", 'fatal']"
   ]
  },
  {
   "cell_type": "code",
   "execution_count": null,
   "id": "c3b80a87-6bf1-48ae-b0b7-1a5a93dbf881",
   "metadata": {},
   "outputs": [],
   "source": []
  },
  {
   "cell_type": "code",
   "execution_count": 75,
   "id": "1bf6ddca-75b2-409e-a8b4-1801264d2c90",
   "metadata": {},
   "outputs": [
    {
     "data": {
      "text/plain": [
       "TtestResult(statistic=5.129425837535572, pvalue=3.637409207818012e-07, df=811.8176467316616)"
      ]
     },
     "execution_count": 75,
     "metadata": {},
     "output_type": "execute_result"
    }
   ],
   "source": [
    "stats.ttest_ind(male_fatalities, female_fatalities, equal_var = False)"
   ]
  },
  {
   "cell_type": "code",
   "execution_count": 73,
   "id": "a6fb74b5-f322-45f7-b80b-96924d085510",
   "metadata": {},
   "outputs": [],
   "source": [
    "# reject the null hypothesis and accept the alt - there is a significant difference between the means of women and men"
   ]
  },
  {
   "cell_type": "code",
   "execution_count": null,
   "id": "62f33d82-237e-443a-830b-23bce58e3be2",
   "metadata": {},
   "outputs": [],
   "source": []
  },
  {
   "cell_type": "code",
   "execution_count": null,
   "id": "7248855b-c7ee-4176-a07a-0a2296887ed1",
   "metadata": {},
   "outputs": [],
   "source": []
  },
  {
   "cell_type": "code",
   "execution_count": null,
   "id": "0709fb7c-a97d-4f4d-bda9-2ee53198ffac",
   "metadata": {},
   "outputs": [],
   "source": []
  },
  {
   "cell_type": "code",
   "execution_count": null,
   "id": "23604d89-f0ff-412f-8d2b-8f7450b54ac0",
   "metadata": {},
   "outputs": [],
   "source": []
  }
 ],
 "metadata": {
  "kernelspec": {
   "display_name": "Python 3 (ipykernel)",
   "language": "python",
   "name": "python3"
  },
  "language_info": {
   "codemirror_mode": {
    "name": "ipython",
    "version": 3
   },
   "file_extension": ".py",
   "mimetype": "text/x-python",
   "name": "python",
   "nbconvert_exporter": "python",
   "pygments_lexer": "ipython3",
   "version": "3.10.14"
  }
 },
 "nbformat": 4,
 "nbformat_minor": 5
}
